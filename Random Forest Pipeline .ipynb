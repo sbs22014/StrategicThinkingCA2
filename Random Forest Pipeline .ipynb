{
 "cells": [
  {
   "cell_type": "code",
   "execution_count": 3,
   "id": "85902edc",
   "metadata": {},
   "outputs": [
    {
     "name": "stdout",
     "output_type": "stream",
     "text": [
      "MSE RMSE for 10% test set size: 21620728318.78\n",
      "MAE for 10% test set size: 3691550124.42\n",
      "MSE RMSE for 20% test set size: 21013366281.01\n",
      "MAE for 20% test set size: 3113427428.63\n",
      "MSE RMSE for 30% test set size: 18440654655.34\n",
      "MAE for 30% test set size: 2724523709.50\n"
     ]
    }
   ],
   "source": [
    "import pandas as pd\n",
    "from sklearn.ensemble import RandomForestRegressor\n",
    "from sklearn.metrics import mean_squared_error, mean_absolute_error\n",
    "from sklearn.model_selection import train_test_split, GridSearchCV, KFold\n",
    "from sklearn.preprocessing import StandardScaler\n",
    "from sklearn.pipeline import Pipeline\n",
    "import plotly.express as px\n",
    "\n",
    "# Load the dataset\n",
    "df = pd.read_csv('ANN_df.csv')\n",
    "\n",
    "# Split the data into features (X) and target variable (y)\n",
    "X = df.drop(['GDP_per_capita_(constant_2015_US$)'], axis=1)  # Features\n",
    "y = df['GDP_per_capita_(constant_2015_US$)']  # Target variable\n",
    "\n",
    "# Set up the splits\n",
    "splits = [0.1, 0.2, 0.3]  # 10%, 20%, and 30% splits\n",
    "random_state = 23  # Set a random state for reproducibility\n",
    "\n",
    "# Create a K-fold cross-validator\n",
    "kf = KFold(n_splits=5, shuffle=True, random_state=random_state)\n",
    "\n",
    "# Define hyperparameter grid for the Random Forest\n",
    "param_grid = {\n",
    "    'regressor__n_estimators': [50, 100],\n",
    "    'regressor__max_depth': [None, 10, 20],\n",
    "    'regressor__min_samples_split': [2, 5, 10],\n",
    "    'regressor__min_samples_leaf': [1, 2, 4]\n",
    "}\n",
    "\n",
    "# Create a pipeline for Mean Squared Error (MSE) regression\n",
    "mse_pipeline = Pipeline([\n",
    "    ('scaler', StandardScaler()),\n",
    "    ('regressor', RandomForestRegressor(random_state=random_state))\n",
    "])\n",
    "\n",
    "# Create a pipeline for Mean Absolute Error (MAE) regression\n",
    "mae_pipeline = Pipeline([\n",
    "    ('regressor', RandomForestRegressor(random_state=random_state))\n",
    "])\n",
    "\n",
    "for split in splits:\n",
    "    # Split the scaled data into training and testing sets\n",
    "    X_train, X_test, y_train, y_test = train_test_split(X, y, test_size=split, random_state=random_state)\n",
    "\n",
    "    # MSE Pipeline\n",
    "    grid_search_mse = GridSearchCV(estimator=mse_pipeline, param_grid=param_grid,\n",
    "                                   scoring='neg_mean_squared_error', cv=kf)\n",
    "    grid_search_mse.fit(X_train, y_train)\n",
    "    best_rf_regressor_mse = grid_search_mse.best_estimator_\n",
    "    y_pred_mse = best_rf_regressor_mse.predict(X_test)\n",
    "    rmse = mean_squared_error(y_test, y_pred_mse, squared=False)\n",
    "    print(f\"MSE RMSE for {int(split*100)}% test set size: {rmse:.2f}\")\n",
    "\n",
    "    # MAE Pipeline\n",
    "    grid_search_mae = GridSearchCV(estimator=mae_pipeline, param_grid=param_grid,\n",
    "                                   scoring='neg_mean_absolute_error', cv=kf)\n",
    "    grid_search_mae.fit(X_train, y_train)\n",
    "    best_rf_regressor_mae = grid_search_mae.best_estimator_\n",
    "    y_pred_mae = best_rf_regressor_mae.predict(X_test)\n",
    "    mae = mean_absolute_error(y_test, y_pred_mae)\n",
    "    print(f\"MAE for {int(split*100)}% test set size: {mae:.2f}\")\n",
    "\n",
    "# Visualization using Plotly\n",
    "# Similar to the code you provided\n",
    "# ...\n",
    "# ..."
   ]
  },
  {
   "cell_type": "code",
   "execution_count": 4,
   "id": "63cca5b2",
   "metadata": {},
   "outputs": [
    {
     "name": "stdout",
     "output_type": "stream",
     "text": [
      "MAE for 30% test set size: 2724523709.50\n"
     ]
    }
   ],
   "source": [
    "# MAE Pipeline\n",
    "grid_search_mae = GridSearchCV(estimator=mae_pipeline, param_grid=param_grid,\n",
    "                               scoring='neg_mean_absolute_error', cv=kf)\n",
    "grid_search_mae.fit(X_train, y_train)\n",
    "best_rf_regressor_mae = grid_search_mae.best_estimator_\n",
    "y_pred_mae = best_rf_regressor_mae.predict(X_test)\n",
    "mae = mean_absolute_error(y_test, y_pred_mae)\n",
    "print(f\"MAE for {int(split*100)}% test set size: {mae:.2f}\")"
   ]
  },
  {
   "cell_type": "code",
   "execution_count": 5,
   "id": "8e6a510a",
   "metadata": {},
   "outputs": [
    {
     "name": "stdout",
     "output_type": "stream",
     "text": [
      "R2 for 30% test set size: 0.95\n"
     ]
    }
   ],
   "source": [
    "# R2 Pipeline\n",
    "grid_search_r2 = GridSearchCV(estimator=mae_pipeline, param_grid=param_grid,\n",
    "                               scoring='r2', cv=kf)\n",
    "grid_search_r2.fit(X_train, y_train)\n",
    "best_rf_regressor_r2 = grid_search_r2.best_estimator_\n",
    "y_pred_r2 = best_rf_regressor_r2.predict(X_test)\n",
    "r2 = r2_score(y_test, y_pred_r2)\n",
    "print(f\"R2 for {int(split*100)}% test set size: {r2:.2f}\")"
   ]
  },
  {
   "cell_type": "code",
   "execution_count": null,
   "id": "9b7d6754",
   "metadata": {},
   "outputs": [],
   "source": []
  }
 ],
 "metadata": {
  "kernelspec": {
   "display_name": "Python 3 (ipykernel)",
   "language": "python",
   "name": "python3"
  },
  "language_info": {
   "codemirror_mode": {
    "name": "ipython",
    "version": 3
   },
   "file_extension": ".py",
   "mimetype": "text/x-python",
   "name": "python",
   "nbconvert_exporter": "python",
   "pygments_lexer": "ipython3",
   "version": "3.9.13"
  }
 },
 "nbformat": 4,
 "nbformat_minor": 5
}
