{
 "cells": [
  {
   "cell_type": "code",
   "execution_count": 1,
   "id": "5bf04e9c",
   "metadata": {},
   "outputs": [],
   "source": [
    "# Load libraries 1\n",
    "\n",
    "import pandas as pd\n",
    "import numpy as np\n",
    "from sklearn.model_selection import train_test_split\n",
    "from collections import Counter\n",
    "from sklearn.impute import SimpleImputer\n",
    "from sklearn.feature_selection import RFE\n",
    "import matplotlib.pyplot as plt\n",
    "%matplotlib inline \n",
    "from sklearn.ensemble import RandomForestClassifier\n",
    "from sklearn.experimental import enable_iterative_imputer\n",
    "from sklearn.impute import IterativeImputer\n",
    "from sklearn.linear_model import Ridge\n",
    "import seaborn as sns\n",
    "sns.set()\n",
    "import joblib\n",
    "from sklearn.dummy import DummyClassifier\n",
    "from sklearn.linear_model import LogisticRegression\n",
    "from sklearn.model_selection import RandomizedSearchCV\n",
    "from sklearn.model_selection import GridSearchCV\n",
    "from sklearn.metrics import roc_curve,auc\n",
    "from sklearn.metrics import confusion_matrix\n",
    "from sklearn.naive_bayes import GaussianNB\n",
    "from scipy.stats import uniform,randint\n",
    "from tqdm import tqdm\n",
    "from sklearn.tree import DecisionTreeClassifier\n",
    "from sklearn.ensemble import RandomForestClassifier\n",
    "from sklearn.preprocessing import MinMaxScaler\n",
    "from sklearn.metrics import f1_score\n",
    "from sklearn.metrics import precision_recall_curve\n",
    "from sklearn.linear_model import SGDClassifier\n",
    "from sklearn.ensemble import AdaBoostClassifier\n",
    "import pickle\n",
    "import sklearn.preprocessing as preproc \n",
    "from sklearn.preprocessing import MinMaxScaler\n",
    "from sklearn.preprocessing import StandardScaler\n",
    "import math\n",
    "import pandas as pd\n",
    "import tensorflow as tf\n",
    "import matplotlib.pyplot as plt\n",
    "from tensorflow.keras import Model\n",
    "from tensorflow.keras import Sequential\n",
    "from tensorflow.keras.optimizers import Adam\n",
    "from sklearn.preprocessing import StandardScaler\n",
    "from tensorflow.keras.layers import Dense, Dropout\n",
    "from sklearn.model_selection import train_test_split\n",
    "from tensorflow.keras.losses import MeanSquaredLogarithmicError\n",
    "from sklearn.decomposition import PCA\n",
    "import math\n",
    "import pandas as pd\n",
    "import tensorflow as tf\n",
    "import matplotlib.pyplot as plt\n",
    "from tensorflow.keras import Model\n",
    "from tensorflow.keras import Sequential\n",
    "from tensorflow.keras.optimizers import Adam\n",
    "from sklearn.preprocessing import StandardScaler\n",
    "from tensorflow.keras.layers import Dense, Dropout\n",
    "from sklearn.model_selection import train_test_split\n",
    "from tensorflow.keras.losses import MeanSquaredLogarithmicError\n",
    "from sklearn.metrics import r2_score\n",
    "\n",
    "\n",
    "import warnings\n",
    "warnings.filterwarnings(\"ignore\")"
   ]
  },
  {
   "cell_type": "code",
   "execution_count": 2,
   "id": "7809ceb1",
   "metadata": {},
   "outputs": [],
   "source": [
    "# Load libraries 2\n",
    "\n",
    "import numpy as np\n",
    "import pandas as pd\n",
    "import pandas_datareader.data as web\n",
    "from matplotlib import pyplot\n",
    "from pandas.plotting import scatter_matrix\n",
    "import seaborn as sns\n",
    "from sklearn.preprocessing import StandardScaler\n",
    "\n",
    "from sklearn.model_selection import train_test_split\n",
    "from sklearn.model_selection import KFold\n",
    "from sklearn.model_selection import cross_val_score\n",
    "from sklearn.model_selection import GridSearchCV\n",
    "\n",
    "from sklearn.linear_model import LinearRegression\n",
    "from sklearn.linear_model import Lasso\n",
    "from sklearn.linear_model import ElasticNet\n",
    "from sklearn.tree import DecisionTreeRegressor\n",
    "from sklearn.neighbors import KNeighborsRegressor\n",
    "from sklearn.svm import SVR\n",
    "from sklearn.ensemble import RandomForestRegressor\n",
    "from sklearn.ensemble import GradientBoostingRegressor\n",
    "from sklearn.ensemble import ExtraTreesRegressor\n",
    "from sklearn.ensemble import AdaBoostRegressor\n",
    "from sklearn.neural_network import MLPRegressor\n",
    "\n",
    "#Libraries for Deep Learning Models\n",
    "from keras.models import Sequential\n",
    "from keras.layers import Dense\n",
    "#from keras.optimizers import SGD\n",
    "from keras.layers import LSTM\n",
    "from scikeras.wrappers import KerasClassifier\n",
    "\n",
    "#Libraries for Statistical Models\n",
    "import statsmodels.api as sm\n",
    "\n",
    "#Libraries for Saving the Model\n",
    "from pickle import dump\n",
    "from pickle import load\n",
    "\n",
    "# Time series Models\n",
    "from statsmodels.tsa.arima_model import ARIMA\n",
    "#from statsmodels.tsa.statespace.sarimax import SARIMAX\n",
    "\n",
    "# Error Metrics\n",
    "from sklearn.metrics import mean_squared_error\n",
    "\n",
    "# Feature Selection\n",
    "from sklearn.feature_selection import SelectKBest\n",
    "from sklearn.feature_selection import chi2, f_regression\n",
    "\n",
    "#Plotting \n",
    "from pandas.plotting import scatter_matrix\n",
    "from statsmodels.graphics.tsaplots import plot_acf\n",
    "\n",
    "from sklearn.svm import SVR\n",
    "from sklearn.ensemble import RandomForestRegressor\n"
   ]
  },
  {
   "cell_type": "code",
   "execution_count": null,
   "id": "a265b3b2",
   "metadata": {},
   "outputs": [],
   "source": []
  },
  {
   "cell_type": "code",
   "execution_count": null,
   "id": "377dac9f",
   "metadata": {},
   "outputs": [],
   "source": [
    "# Pipeline OHC/PCA Test 1 "
   ]
  },
  {
   "cell_type": "code",
   "execution_count": 3,
   "id": "347311a6",
   "metadata": {},
   "outputs": [],
   "source": [
    "# Re-import data \n",
    "\n",
    "dataset = pd.read_csv('EDA_dataset.csv')"
   ]
  },
  {
   "cell_type": "code",
   "execution_count": 4,
   "id": "c775ff41",
   "metadata": {},
   "outputs": [
    {
     "data": {
      "text/html": [
       "<div>\n",
       "<style scoped>\n",
       "    .dataframe tbody tr th:only-of-type {\n",
       "        vertical-align: middle;\n",
       "    }\n",
       "\n",
       "    .dataframe tbody tr th {\n",
       "        vertical-align: top;\n",
       "    }\n",
       "\n",
       "    .dataframe thead th {\n",
       "        text-align: right;\n",
       "    }\n",
       "</style>\n",
       "<table border=\"1\" class=\"dataframe\">\n",
       "  <thead>\n",
       "    <tr style=\"text-align: right;\">\n",
       "      <th></th>\n",
       "      <th>Country_Name</th>\n",
       "      <th>Year</th>\n",
       "      <th>Access_to_electricity_(%_of_population)</th>\n",
       "      <th>Adjusted_net_enrollment_rate,_primary_(%_of_primary_school_age_children)</th>\n",
       "      <th>Adjusted_net_national_income_(constant_2015_US$)</th>\n",
       "      <th>Adjusted_net_national_income_per_capita_(annual_%_growth)</th>\n",
       "      <th>Adjusted_net_national_income_per_capita_(constant_2015_US$)</th>\n",
       "      <th>Annualized_average_growth_rate_in_per_capita_real_survey_mean_consumption_or_income,_bottom_40%_of_population_(%)</th>\n",
       "      <th>Annualized_average_growth_rate_in_per_capita_real_survey_mean_consumption_or_income,_total_population_(%)</th>\n",
       "      <th>CPIA_social_protection_rating_(1=low_to_6=high)</th>\n",
       "      <th>...</th>\n",
       "      <th>Taxes_on_international_trade_(current_LCU)</th>\n",
       "      <th>Trade_(%_of_GDP)</th>\n",
       "      <th>Trade_in_services_(%_of_GDP)</th>\n",
       "      <th>Unemployment,_total_(%_of_total_labor_force)_(modeled_ILO_estimate)</th>\n",
       "      <th>Unemployment,_youth_total_(%_of_total_labor_force_ages_15-24)_(modeled_ILO_estimate)</th>\n",
       "      <th>Urban_population</th>\n",
       "      <th>Urban_population_(%_of_total_population)</th>\n",
       "      <th>Urban_population_growth_(annual_%)</th>\n",
       "      <th>Vulnerable_employment,_total_(%_of_total_employment)_(modeled_ILO_estimate)</th>\n",
       "      <th>Wage_and_salaried_workers,_total_(%_of_total_employment)_(modeled_ILO_estimate)</th>\n",
       "    </tr>\n",
       "  </thead>\n",
       "  <tbody>\n",
       "    <tr>\n",
       "      <th>0</th>\n",
       "      <td>Africa Eastern and Southern</td>\n",
       "      <td>1999</td>\n",
       "      <td>2.359690e+11</td>\n",
       "      <td>2.359690e+11</td>\n",
       "      <td>2.359690e+11</td>\n",
       "      <td>2.359690e+11</td>\n",
       "      <td>2.359690e+11</td>\n",
       "      <td>2.359690e+11</td>\n",
       "      <td>2.359690e+11</td>\n",
       "      <td>2.359690e+11</td>\n",
       "      <td>...</td>\n",
       "      <td>2.359690e+11</td>\n",
       "      <td>45.424731</td>\n",
       "      <td>11.465418</td>\n",
       "      <td>7.015272</td>\n",
       "      <td>13.076964</td>\n",
       "      <td>111533909.0</td>\n",
       "      <td>28.489868</td>\n",
       "      <td>3.601474</td>\n",
       "      <td>73.421124</td>\n",
       "      <td>22.939684</td>\n",
       "    </tr>\n",
       "    <tr>\n",
       "      <th>1</th>\n",
       "      <td>Africa Eastern and Southern</td>\n",
       "      <td>2000</td>\n",
       "      <td>1.995793e+01</td>\n",
       "      <td>2.270450e+11</td>\n",
       "      <td>2.270450e+11</td>\n",
       "      <td>2.270450e+11</td>\n",
       "      <td>2.270450e+11</td>\n",
       "      <td>2.270450e+11</td>\n",
       "      <td>2.270450e+11</td>\n",
       "      <td>2.270450e+11</td>\n",
       "      <td>...</td>\n",
       "      <td>2.270450e+11</td>\n",
       "      <td>63.102906</td>\n",
       "      <td>10.532252</td>\n",
       "      <td>6.939536</td>\n",
       "      <td>13.045450</td>\n",
       "      <td>115551653.0</td>\n",
       "      <td>28.772780</td>\n",
       "      <td>3.602262</td>\n",
       "      <td>73.553800</td>\n",
       "      <td>22.871478</td>\n",
       "    </tr>\n",
       "    <tr>\n",
       "      <th>2</th>\n",
       "      <td>Africa Eastern and Southern</td>\n",
       "      <td>2001</td>\n",
       "      <td>1.998622e+01</td>\n",
       "      <td>2.460002e+11</td>\n",
       "      <td>2.460002e+11</td>\n",
       "      <td>2.460002e+11</td>\n",
       "      <td>2.460002e+11</td>\n",
       "      <td>2.460002e+11</td>\n",
       "      <td>2.460002e+11</td>\n",
       "      <td>2.460002e+11</td>\n",
       "      <td>...</td>\n",
       "      <td>2.460002e+11</td>\n",
       "      <td>64.036256</td>\n",
       "      <td>11.286972</td>\n",
       "      <td>6.850376</td>\n",
       "      <td>13.043432</td>\n",
       "      <td>119775502.0</td>\n",
       "      <td>29.071591</td>\n",
       "      <td>3.655377</td>\n",
       "      <td>73.588387</td>\n",
       "      <td>22.866942</td>\n",
       "    </tr>\n",
       "    <tr>\n",
       "      <th>3</th>\n",
       "      <td>Africa Eastern and Southern</td>\n",
       "      <td>2002</td>\n",
       "      <td>2.160150e+01</td>\n",
       "      <td>2.489774e+11</td>\n",
       "      <td>3.991570e+11</td>\n",
       "      <td>2.489774e+11</td>\n",
       "      <td>9.442113e+02</td>\n",
       "      <td>2.489774e+11</td>\n",
       "      <td>2.489774e+11</td>\n",
       "      <td>2.489774e+11</td>\n",
       "      <td>...</td>\n",
       "      <td>2.489774e+11</td>\n",
       "      <td>60.029466</td>\n",
       "      <td>11.426541</td>\n",
       "      <td>6.803537</td>\n",
       "      <td>13.065178</td>\n",
       "      <td>124227507.0</td>\n",
       "      <td>29.386190</td>\n",
       "      <td>3.716958</td>\n",
       "      <td>73.725292</td>\n",
       "      <td>22.590170</td>\n",
       "    </tr>\n",
       "    <tr>\n",
       "      <th>4</th>\n",
       "      <td>Africa Eastern and Southern</td>\n",
       "      <td>2003</td>\n",
       "      <td>2.254831e+01</td>\n",
       "      <td>2.652209e+11</td>\n",
       "      <td>4.191230e+11</td>\n",
       "      <td>2.323504e+00</td>\n",
       "      <td>9.661501e+02</td>\n",
       "      <td>2.652209e+11</td>\n",
       "      <td>2.652209e+11</td>\n",
       "      <td>2.652209e+11</td>\n",
       "      <td>...</td>\n",
       "      <td>2.652209e+11</td>\n",
       "      <td>57.388959</td>\n",
       "      <td>10.689284</td>\n",
       "      <td>6.741241</td>\n",
       "      <td>13.075810</td>\n",
       "      <td>128833965.0</td>\n",
       "      <td>29.698419</td>\n",
       "      <td>3.708082</td>\n",
       "      <td>73.950803</td>\n",
       "      <td>22.473167</td>\n",
       "    </tr>\n",
       "  </tbody>\n",
       "</table>\n",
       "<p>5 rows × 106 columns</p>\n",
       "</div>"
      ],
      "text/plain": [
       "                  Country_Name  Year  Access_to_electricity_(%_of_population)  \\\n",
       "0  Africa Eastern and Southern  1999                             2.359690e+11   \n",
       "1  Africa Eastern and Southern  2000                             1.995793e+01   \n",
       "2  Africa Eastern and Southern  2001                             1.998622e+01   \n",
       "3  Africa Eastern and Southern  2002                             2.160150e+01   \n",
       "4  Africa Eastern and Southern  2003                             2.254831e+01   \n",
       "\n",
       "   Adjusted_net_enrollment_rate,_primary_(%_of_primary_school_age_children)  \\\n",
       "0                                       2.359690e+11                          \n",
       "1                                       2.270450e+11                          \n",
       "2                                       2.460002e+11                          \n",
       "3                                       2.489774e+11                          \n",
       "4                                       2.652209e+11                          \n",
       "\n",
       "   Adjusted_net_national_income_(constant_2015_US$)  \\\n",
       "0                                      2.359690e+11   \n",
       "1                                      2.270450e+11   \n",
       "2                                      2.460002e+11   \n",
       "3                                      3.991570e+11   \n",
       "4                                      4.191230e+11   \n",
       "\n",
       "   Adjusted_net_national_income_per_capita_(annual_%_growth)  \\\n",
       "0                                       2.359690e+11           \n",
       "1                                       2.270450e+11           \n",
       "2                                       2.460002e+11           \n",
       "3                                       2.489774e+11           \n",
       "4                                       2.323504e+00           \n",
       "\n",
       "   Adjusted_net_national_income_per_capita_(constant_2015_US$)  \\\n",
       "0                                       2.359690e+11             \n",
       "1                                       2.270450e+11             \n",
       "2                                       2.460002e+11             \n",
       "3                                       9.442113e+02             \n",
       "4                                       9.661501e+02             \n",
       "\n",
       "   Annualized_average_growth_rate_in_per_capita_real_survey_mean_consumption_or_income,_bottom_40%_of_population_(%)  \\\n",
       "0                                       2.359690e+11                                                                   \n",
       "1                                       2.270450e+11                                                                   \n",
       "2                                       2.460002e+11                                                                   \n",
       "3                                       2.489774e+11                                                                   \n",
       "4                                       2.652209e+11                                                                   \n",
       "\n",
       "   Annualized_average_growth_rate_in_per_capita_real_survey_mean_consumption_or_income,_total_population_(%)  \\\n",
       "0                                       2.359690e+11                                                           \n",
       "1                                       2.270450e+11                                                           \n",
       "2                                       2.460002e+11                                                           \n",
       "3                                       2.489774e+11                                                           \n",
       "4                                       2.652209e+11                                                           \n",
       "\n",
       "   CPIA_social_protection_rating_(1=low_to_6=high)  ...  \\\n",
       "0                                     2.359690e+11  ...   \n",
       "1                                     2.270450e+11  ...   \n",
       "2                                     2.460002e+11  ...   \n",
       "3                                     2.489774e+11  ...   \n",
       "4                                     2.652209e+11  ...   \n",
       "\n",
       "   Taxes_on_international_trade_(current_LCU)  Trade_(%_of_GDP)  \\\n",
       "0                                2.359690e+11         45.424731   \n",
       "1                                2.270450e+11         63.102906   \n",
       "2                                2.460002e+11         64.036256   \n",
       "3                                2.489774e+11         60.029466   \n",
       "4                                2.652209e+11         57.388959   \n",
       "\n",
       "   Trade_in_services_(%_of_GDP)  \\\n",
       "0                     11.465418   \n",
       "1                     10.532252   \n",
       "2                     11.286972   \n",
       "3                     11.426541   \n",
       "4                     10.689284   \n",
       "\n",
       "   Unemployment,_total_(%_of_total_labor_force)_(modeled_ILO_estimate)  \\\n",
       "0                                           7.015272                     \n",
       "1                                           6.939536                     \n",
       "2                                           6.850376                     \n",
       "3                                           6.803537                     \n",
       "4                                           6.741241                     \n",
       "\n",
       "   Unemployment,_youth_total_(%_of_total_labor_force_ages_15-24)_(modeled_ILO_estimate)  \\\n",
       "0                                          13.076964                                      \n",
       "1                                          13.045450                                      \n",
       "2                                          13.043432                                      \n",
       "3                                          13.065178                                      \n",
       "4                                          13.075810                                      \n",
       "\n",
       "   Urban_population  Urban_population_(%_of_total_population)  \\\n",
       "0       111533909.0                                 28.489868   \n",
       "1       115551653.0                                 28.772780   \n",
       "2       119775502.0                                 29.071591   \n",
       "3       124227507.0                                 29.386190   \n",
       "4       128833965.0                                 29.698419   \n",
       "\n",
       "   Urban_population_growth_(annual_%)  \\\n",
       "0                            3.601474   \n",
       "1                            3.602262   \n",
       "2                            3.655377   \n",
       "3                            3.716958   \n",
       "4                            3.708082   \n",
       "\n",
       "   Vulnerable_employment,_total_(%_of_total_employment)_(modeled_ILO_estimate)  \\\n",
       "0                                          73.421124                             \n",
       "1                                          73.553800                             \n",
       "2                                          73.588387                             \n",
       "3                                          73.725292                             \n",
       "4                                          73.950803                             \n",
       "\n",
       "   Wage_and_salaried_workers,_total_(%_of_total_employment)_(modeled_ILO_estimate)  \n",
       "0                                          22.939684                                \n",
       "1                                          22.871478                                \n",
       "2                                          22.866942                                \n",
       "3                                          22.590170                                \n",
       "4                                          22.473167                                \n",
       "\n",
       "[5 rows x 106 columns]"
      ]
     },
     "execution_count": 4,
     "metadata": {},
     "output_type": "execute_result"
    }
   ],
   "source": [
    "dataset.head()\n"
   ]
  },
  {
   "cell_type": "code",
   "execution_count": 5,
   "id": "71000aaf",
   "metadata": {},
   "outputs": [
    {
     "data": {
      "text/plain": [
       "(1166, 106)"
      ]
     },
     "execution_count": 5,
     "metadata": {},
     "output_type": "execute_result"
    }
   ],
   "source": [
    "dataset.shape"
   ]
  },
  {
   "cell_type": "code",
   "execution_count": 6,
   "id": "fb5dc07d",
   "metadata": {},
   "outputs": [],
   "source": [
    "X = dataset.drop('GDP_per_capita_(constant_2015_US$)', axis=1)\n",
    "Y = dataset['GDP_per_capita_(constant_2015_US$)']"
   ]
  },
  {
   "cell_type": "code",
   "execution_count": 7,
   "id": "ccaf7d01",
   "metadata": {},
   "outputs": [],
   "source": [
    "numericalCols = X.select_dtypes(exclude=['object']).columns.tolist()\n",
    "categoricalCols = X.select_dtypes(include=['object']).columns.tolist()"
   ]
  },
  {
   "cell_type": "code",
   "execution_count": 8,
   "id": "19353eea",
   "metadata": {},
   "outputs": [
    {
     "data": {
      "text/plain": [
       "['Year',\n",
       " 'Access_to_electricity_(%_of_population)',\n",
       " 'Adjusted_net_enrollment_rate,_primary_(%_of_primary_school_age_children)',\n",
       " 'Adjusted_net_national_income_(constant_2015_US$)',\n",
       " 'Adjusted_net_national_income_per_capita_(annual_%_growth)',\n",
       " 'Adjusted_net_national_income_per_capita_(constant_2015_US$)',\n",
       " 'Annualized_average_growth_rate_in_per_capita_real_survey_mean_consumption_or_income,_bottom_40%_of_population_(%)',\n",
       " 'Annualized_average_growth_rate_in_per_capita_real_survey_mean_consumption_or_income,_total_population_(%)',\n",
       " 'CPIA_social_protection_rating_(1=low_to_6=high)',\n",
       " 'CPIA_trade_rating_(1=low_to_6=high)',\n",
       " 'Central_government_debt,_total_(%_of_GDP)',\n",
       " 'Children_out_of_school,_primary',\n",
       " 'Current_account_balance_(%_of_GDP)',\n",
       " 'Current_health_expenditure_(%_of_GDP)',\n",
       " 'Current_health_expenditure_per_capita,_PPP_(current_international_$)',\n",
       " 'Employment_to_population_ratio,_15+,_total_(%)_(modeled_ILO_estimate)',\n",
       " 'Exports_of_goods_and_services_(%_of_GDP)',\n",
       " 'Exports_of_goods_and_services_(annual_%_growth)',\n",
       " 'Final_consumption_expenditure_(%_of_GDP)',\n",
       " 'Final_consumption_expenditure_(annual_%_growth)',\n",
       " 'Foreign_direct_investment,_net_inflows_(%_of_GDP)',\n",
       " 'Foreign_direct_investment,_net_outflows_(%_of_GDP)',\n",
       " 'GDP_(constant_2015_US$)',\n",
       " 'GDP_(constant_LCU)',\n",
       " 'GDP_growth_(annual_%)',\n",
       " 'GDP_per_capita_(constant_LCU)',\n",
       " 'GDP_per_capita_growth_(annual_%)',\n",
       " 'GDP_per_capita,_PPP_(constant_2017_international_$)',\n",
       " 'GDP_per_person_employed_(constant_2017_PPP_$)',\n",
       " 'GDP,_PPP_(constant_2017_international_$)',\n",
       " 'Gini_index',\n",
       " 'Government_expenditure_on_education,_total_(%_of_GDP)',\n",
       " 'Government_expenditure_on_education,_total_(%_of_government_expenditure)',\n",
       " 'Gross_domestic_income_(constant_LCU)',\n",
       " 'Gross_domestic_savings_(%_of_GDP)',\n",
       " 'Gross_national_expenditure_(constant_2015_US$)',\n",
       " 'Gross_savings_(%_of_GDP)',\n",
       " 'Hospital_beds_(per_1,000_people)',\n",
       " 'Human_capital_index_(HCI)_(scale_0-1)',\n",
       " 'Human_capital_index_(HCI),_lower_bound_(scale_0-1)',\n",
       " 'Human_capital_index_(HCI),_upper_bound_(scale_0-1)',\n",
       " 'Income_share_held_by_highest_10%',\n",
       " 'Income_share_held_by_highest_20%',\n",
       " 'Income_share_held_by_lowest_10%',\n",
       " 'Income_share_held_by_lowest_20%',\n",
       " 'Increase_in_poverty_gap_at_$1.90_($_2011_PPP)_poverty_line_due_to_out-of-pocket_health_care_expenditure_(%_of_poverty_line)',\n",
       " 'Increase_in_poverty_gap_at_$1.90_($_2011_PPP)_poverty_line_due_to_out-of-pocket_health_care_expenditure_(USD)',\n",
       " 'Increase_in_poverty_gap_at_$3.20_($_2011_PPP)_poverty_line_due_to_out-of-pocket_health_care_expenditure_(%_of_poverty_line)',\n",
       " 'Increase_in_poverty_gap_at_$3.20_($_2011_PPP)_poverty_line_due_to_out-of-pocket_health_care_expenditure_(USD)',\n",
       " 'Inflation,_GDP_deflator_(annual_%)',\n",
       " 'Inflation,_GDP_deflator:_linked_series_(annual_%)',\n",
       " 'Inflation,_consumer_prices_(annual_%)',\n",
       " 'Labor_force,_total',\n",
       " 'Life_expectancy_at_birth,_total_(years)',\n",
       " 'Literacy_rate,_adult_total_(%_of_people_ages_15_and_above)',\n",
       " 'Literacy_rate,_youth_total_(%_of_people_ages_15-24)',\n",
       " 'Mortality_rate,_infant_(per_1,000_live_births)',\n",
       " 'Mortality_rate,_under-5_(per_1,000_live_births)',\n",
       " 'Net_acquisition_of_financial_assets_(current_LCU)',\n",
       " 'Net_barter_terms_of_trade_index_(2000_=_100)',\n",
       " 'Net_financial_flows,_bilateral_(NFL,_current_US$)',\n",
       " 'Net_foreign_assets_(current_LCU)',\n",
       " 'Net_investment_in_nonfinancial_assets_(current_LCU)',\n",
       " 'Net_lending_(+)_/_net_borrowing_(-)_(current_LCU)',\n",
       " 'Net_trade_in_goods_(BoP,_current_US$)',\n",
       " 'Number_of_under-five_deaths',\n",
       " 'Ores_and_metals_exports_(%_of_merchandise_exports)',\n",
       " 'Population,_total',\n",
       " 'Poverty_gap_at_$2.15_a_day_(2017_PPP)_(%)',\n",
       " 'Poverty_gap_at_$3.65_a_day_(2017_PPP)_(%)',\n",
       " 'Poverty_gap_at_$6.85_a_day_(2017_PPP)_(%)',\n",
       " 'Poverty_headcount_ratio_at_$2.15_a_day_(2017_PPP)_(%_of_population)',\n",
       " 'Poverty_headcount_ratio_at_$3.65_a_day_(2017_PPP)_(%_of_population)',\n",
       " 'Poverty_headcount_ratio_at_$6.85_a_day_(2017_PPP)_(%_of_population)',\n",
       " 'Poverty_headcount_ratio_at_national_poverty_lines_(%_of_population)',\n",
       " 'Present_value_of_external_debt_(current_US$)',\n",
       " 'Price_level_ratio_of_PPP_conversion_factor_(GDP)_to_market_exchange_rate',\n",
       " 'Primary_completion_rate,_total_(%_of_relevant_age_group)',\n",
       " 'Public_private_partnerships_investment_in_ICT_(current_US$)',\n",
       " 'Public_private_partnerships_investment_in_energy_(current_US$)',\n",
       " 'Public_private_partnerships_investment_in_transport_(current_US$)',\n",
       " 'Public_private_partnerships_investment_in_water_and_sanitation_(current_US$)',\n",
       " 'Rail_lines_(total_route-km)',\n",
       " 'Railways,_goods_transported_(million_ton-km)',\n",
       " 'Railways,_passengers_carried_(million_passenger-km)',\n",
       " 'Real_interest_rate_(%)',\n",
       " 'Renewable_electricity_output_(%_of_total_electricity_output)',\n",
       " 'Renewable_energy_consumption_(%_of_total_final_energy_consumption)',\n",
       " 'Renewable_internal_freshwater_resources_per_capita_(cubic_meters)',\n",
       " 'Rural_land_area_(sq._km)',\n",
       " 'Rural_population',\n",
       " 'Taxes_on_exports_(%_of_tax_revenue)',\n",
       " 'Taxes_on_exports_(current_LCU)',\n",
       " 'Taxes_on_international_trade_(%_of_revenue)',\n",
       " 'Taxes_on_international_trade_(current_LCU)',\n",
       " 'Trade_(%_of_GDP)',\n",
       " 'Trade_in_services_(%_of_GDP)',\n",
       " 'Unemployment,_total_(%_of_total_labor_force)_(modeled_ILO_estimate)',\n",
       " 'Unemployment,_youth_total_(%_of_total_labor_force_ages_15-24)_(modeled_ILO_estimate)',\n",
       " 'Urban_population',\n",
       " 'Urban_population_(%_of_total_population)',\n",
       " 'Urban_population_growth_(annual_%)',\n",
       " 'Vulnerable_employment,_total_(%_of_total_employment)_(modeled_ILO_estimate)',\n",
       " 'Wage_and_salaried_workers,_total_(%_of_total_employment)_(modeled_ILO_estimate)']"
      ]
     },
     "execution_count": 8,
     "metadata": {},
     "output_type": "execute_result"
    }
   ],
   "source": [
    "# List all numerical columns\n",
    "\n",
    "numericalCols"
   ]
  },
  {
   "cell_type": "code",
   "execution_count": 9,
   "id": "8a108f0b",
   "metadata": {},
   "outputs": [
    {
     "data": {
      "text/plain": [
       "['Country_Name']"
      ]
     },
     "execution_count": 9,
     "metadata": {},
     "output_type": "execute_result"
    }
   ],
   "source": [
    "# List all categorical columns\n",
    "\n",
    "categoricalCols"
   ]
  },
  {
   "cell_type": "code",
   "execution_count": 10,
   "id": "bc489a07",
   "metadata": {},
   "outputs": [],
   "source": [
    "# Data Test 1 - 30% \n",
    "\n",
    "\n",
    "validation_size = 0.3\n",
    "\n",
    "#In case the data is not dependent on the time series, then train and test split randomly\n",
    "seed = 42\n",
    "X_train, X_validation, Y_train, Y_validation = train_test_split(X, Y, test_size=validation_size, random_state=seed)\n",
    "\n",
    "# Test variables for regression scoring\n",
    "\n",
    "num_folds = 10\n",
    "scoring = 'neg_mean_squared_error'"
   ]
  },
  {
   "cell_type": "code",
   "execution_count": 11,
   "id": "76c8cd49",
   "metadata": {},
   "outputs": [],
   "source": [
    "from sklearn.compose import ColumnTransformer\n",
    "from sklearn.pipeline import make_pipeline\n",
    "from sklearn.preprocessing import OneHotEncoder, StandardScaler\n",
    "from sklearn.neural_network import MLPRegressor"
   ]
  },
  {
   "cell_type": "code",
   "execution_count": null,
   "id": "4133a06c",
   "metadata": {},
   "outputs": [],
   "source": []
  },
  {
   "cell_type": "code",
   "execution_count": 12,
   "id": "d2cf9159",
   "metadata": {},
   "outputs": [],
   "source": [
    "### MAKE PIPE 1\n",
    "\n",
    "pipe = make_pipeline(\n",
    "    ColumnTransformer([\n",
    "        ('Categorical', OneHotEncoder(handle_unknown='ignore'), categoricalCols),\n",
    "        ('Numerical', StandardScaler(), numericalCols)  # StandardScaler added here\n",
    "    ]),\n",
    "    MLPRegressor() \n",
    ")"
   ]
  },
  {
   "cell_type": "code",
   "execution_count": 13,
   "id": "d48b9abc",
   "metadata": {},
   "outputs": [
    {
     "data": {
      "text/plain": [
       "Pipeline(steps=[('columntransformer',\n",
       "                 ColumnTransformer(transformers=[('Categorical',\n",
       "                                                  OneHotEncoder(handle_unknown='ignore'),\n",
       "                                                  ['Country_Name']),\n",
       "                                                 ('Numerical', StandardScaler(),\n",
       "                                                  ['Year',\n",
       "                                                   'Access_to_electricity_(%_of_population)',\n",
       "                                                   'Adjusted_net_enrollment_rate,_primary_(%_of_primary_school_age_children)',\n",
       "                                                   'Adjusted_net_national_income_(constant_2015_US$)',\n",
       "                                                   'Ad...\n",
       "                                                   'Foreign_direct_investment,_net_outflows_(%_of_GDP)',\n",
       "                                                   'GDP_(constant_2015_US$)',\n",
       "                                                   'GDP_(constant_LCU)',\n",
       "                                                   'GDP_growth_(annual_%)',\n",
       "                                                   'GDP_per_capita_(constant_LCU)',\n",
       "                                                   'GDP_per_capita_growth_(annual_%)',\n",
       "                                                   'GDP_per_capita,_PPP_(constant_2017_international_$)',\n",
       "                                                   'GDP_per_person_employed_(constant_2017_PPP_$)',\n",
       "                                                   'GDP,_PPP_(constant_2017_international_$)', ...])])),\n",
       "                ('mlpregressor', MLPRegressor())])"
      ]
     },
     "execution_count": 13,
     "metadata": {},
     "output_type": "execute_result"
    }
   ],
   "source": [
    "from sklearn import set_config\n",
    "set_config(display=\"text\")\n",
    "pipe"
   ]
  },
  {
   "cell_type": "code",
   "execution_count": 14,
   "id": "47406a82",
   "metadata": {},
   "outputs": [
    {
     "data": {
      "text/html": [
       "<style>#sk-container-id-1 {color: black;}#sk-container-id-1 pre{padding: 0;}#sk-container-id-1 div.sk-toggleable {background-color: white;}#sk-container-id-1 label.sk-toggleable__label {cursor: pointer;display: block;width: 100%;margin-bottom: 0;padding: 0.3em;box-sizing: border-box;text-align: center;}#sk-container-id-1 label.sk-toggleable__label-arrow:before {content: \"▸\";float: left;margin-right: 0.25em;color: #696969;}#sk-container-id-1 label.sk-toggleable__label-arrow:hover:before {color: black;}#sk-container-id-1 div.sk-estimator:hover label.sk-toggleable__label-arrow:before {color: black;}#sk-container-id-1 div.sk-toggleable__content {max-height: 0;max-width: 0;overflow: hidden;text-align: left;background-color: #f0f8ff;}#sk-container-id-1 div.sk-toggleable__content pre {margin: 0.2em;color: black;border-radius: 0.25em;background-color: #f0f8ff;}#sk-container-id-1 input.sk-toggleable__control:checked~div.sk-toggleable__content {max-height: 200px;max-width: 100%;overflow: auto;}#sk-container-id-1 input.sk-toggleable__control:checked~label.sk-toggleable__label-arrow:before {content: \"▾\";}#sk-container-id-1 div.sk-estimator input.sk-toggleable__control:checked~label.sk-toggleable__label {background-color: #d4ebff;}#sk-container-id-1 div.sk-label input.sk-toggleable__control:checked~label.sk-toggleable__label {background-color: #d4ebff;}#sk-container-id-1 input.sk-hidden--visually {border: 0;clip: rect(1px 1px 1px 1px);clip: rect(1px, 1px, 1px, 1px);height: 1px;margin: -1px;overflow: hidden;padding: 0;position: absolute;width: 1px;}#sk-container-id-1 div.sk-estimator {font-family: monospace;background-color: #f0f8ff;border: 1px dotted black;border-radius: 0.25em;box-sizing: border-box;margin-bottom: 0.5em;}#sk-container-id-1 div.sk-estimator:hover {background-color: #d4ebff;}#sk-container-id-1 div.sk-parallel-item::after {content: \"\";width: 100%;border-bottom: 1px solid gray;flex-grow: 1;}#sk-container-id-1 div.sk-label:hover label.sk-toggleable__label {background-color: #d4ebff;}#sk-container-id-1 div.sk-serial::before {content: \"\";position: absolute;border-left: 1px solid gray;box-sizing: border-box;top: 0;bottom: 0;left: 50%;z-index: 0;}#sk-container-id-1 div.sk-serial {display: flex;flex-direction: column;align-items: center;background-color: white;padding-right: 0.2em;padding-left: 0.2em;position: relative;}#sk-container-id-1 div.sk-item {position: relative;z-index: 1;}#sk-container-id-1 div.sk-parallel {display: flex;align-items: stretch;justify-content: center;background-color: white;position: relative;}#sk-container-id-1 div.sk-item::before, #sk-container-id-1 div.sk-parallel-item::before {content: \"\";position: absolute;border-left: 1px solid gray;box-sizing: border-box;top: 0;bottom: 0;left: 50%;z-index: -1;}#sk-container-id-1 div.sk-parallel-item {display: flex;flex-direction: column;z-index: 1;position: relative;background-color: white;}#sk-container-id-1 div.sk-parallel-item:first-child::after {align-self: flex-end;width: 50%;}#sk-container-id-1 div.sk-parallel-item:last-child::after {align-self: flex-start;width: 50%;}#sk-container-id-1 div.sk-parallel-item:only-child::after {width: 0;}#sk-container-id-1 div.sk-dashed-wrapped {border: 1px dashed gray;margin: 0 0.4em 0.5em 0.4em;box-sizing: border-box;padding-bottom: 0.4em;background-color: white;}#sk-container-id-1 div.sk-label label {font-family: monospace;font-weight: bold;display: inline-block;line-height: 1.2em;}#sk-container-id-1 div.sk-label-container {text-align: center;}#sk-container-id-1 div.sk-container {/* jupyter's `normalize.less` sets `[hidden] { display: none; }` but bootstrap.min.css set `[hidden] { display: none !important; }` so we also need the `!important` here to be able to override the default hidden behavior on the sphinx rendered scikit-learn.org. See: https://github.com/scikit-learn/scikit-learn/issues/21755 */display: inline-block !important;position: relative;}#sk-container-id-1 div.sk-text-repr-fallback {display: none;}</style><div id=\"sk-container-id-1\" class=\"sk-top-container\"><div class=\"sk-text-repr-fallback\"><pre>Pipeline(steps=[(&#x27;columntransformer&#x27;,\n",
       "                 ColumnTransformer(transformers=[(&#x27;Categorical&#x27;,\n",
       "                                                  OneHotEncoder(handle_unknown=&#x27;ignore&#x27;),\n",
       "                                                  [&#x27;Country_Name&#x27;]),\n",
       "                                                 (&#x27;Numerical&#x27;, StandardScaler(),\n",
       "                                                  [&#x27;Year&#x27;,\n",
       "                                                   &#x27;Access_to_electricity_(%_of_population)&#x27;,\n",
       "                                                   &#x27;Adjusted_net_enrollment_rate,_primary_(%_of_primary_school_age_children)&#x27;,\n",
       "                                                   &#x27;Adjusted_net_national_income_(constant_2015_US$)&#x27;,\n",
       "                                                   &#x27;Ad...\n",
       "                                                   &#x27;Foreign_direct_investment,_net_outflows_(%_of_GDP)&#x27;,\n",
       "                                                   &#x27;GDP_(constant_2015_US$)&#x27;,\n",
       "                                                   &#x27;GDP_(constant_LCU)&#x27;,\n",
       "                                                   &#x27;GDP_growth_(annual_%)&#x27;,\n",
       "                                                   &#x27;GDP_per_capita_(constant_LCU)&#x27;,\n",
       "                                                   &#x27;GDP_per_capita_growth_(annual_%)&#x27;,\n",
       "                                                   &#x27;GDP_per_capita,_PPP_(constant_2017_international_$)&#x27;,\n",
       "                                                   &#x27;GDP_per_person_employed_(constant_2017_PPP_$)&#x27;,\n",
       "                                                   &#x27;GDP,_PPP_(constant_2017_international_$)&#x27;, ...])])),\n",
       "                (&#x27;mlpregressor&#x27;, MLPRegressor())])</pre><b>In a Jupyter environment, please rerun this cell to show the HTML representation or trust the notebook. <br />On GitHub, the HTML representation is unable to render, please try loading this page with nbviewer.org.</b></div><div class=\"sk-container\" hidden><div class=\"sk-item sk-dashed-wrapped\"><div class=\"sk-label-container\"><div class=\"sk-label sk-toggleable\"><input class=\"sk-toggleable__control sk-hidden--visually\" id=\"sk-estimator-id-1\" type=\"checkbox\" ><label for=\"sk-estimator-id-1\" class=\"sk-toggleable__label sk-toggleable__label-arrow\">Pipeline</label><div class=\"sk-toggleable__content\"><pre>Pipeline(steps=[(&#x27;columntransformer&#x27;,\n",
       "                 ColumnTransformer(transformers=[(&#x27;Categorical&#x27;,\n",
       "                                                  OneHotEncoder(handle_unknown=&#x27;ignore&#x27;),\n",
       "                                                  [&#x27;Country_Name&#x27;]),\n",
       "                                                 (&#x27;Numerical&#x27;, StandardScaler(),\n",
       "                                                  [&#x27;Year&#x27;,\n",
       "                                                   &#x27;Access_to_electricity_(%_of_population)&#x27;,\n",
       "                                                   &#x27;Adjusted_net_enrollment_rate,_primary_(%_of_primary_school_age_children)&#x27;,\n",
       "                                                   &#x27;Adjusted_net_national_income_(constant_2015_US$)&#x27;,\n",
       "                                                   &#x27;Ad...\n",
       "                                                   &#x27;Foreign_direct_investment,_net_outflows_(%_of_GDP)&#x27;,\n",
       "                                                   &#x27;GDP_(constant_2015_US$)&#x27;,\n",
       "                                                   &#x27;GDP_(constant_LCU)&#x27;,\n",
       "                                                   &#x27;GDP_growth_(annual_%)&#x27;,\n",
       "                                                   &#x27;GDP_per_capita_(constant_LCU)&#x27;,\n",
       "                                                   &#x27;GDP_per_capita_growth_(annual_%)&#x27;,\n",
       "                                                   &#x27;GDP_per_capita,_PPP_(constant_2017_international_$)&#x27;,\n",
       "                                                   &#x27;GDP_per_person_employed_(constant_2017_PPP_$)&#x27;,\n",
       "                                                   &#x27;GDP,_PPP_(constant_2017_international_$)&#x27;, ...])])),\n",
       "                (&#x27;mlpregressor&#x27;, MLPRegressor())])</pre></div></div></div><div class=\"sk-serial\"><div class=\"sk-item sk-dashed-wrapped\"><div class=\"sk-label-container\"><div class=\"sk-label sk-toggleable\"><input class=\"sk-toggleable__control sk-hidden--visually\" id=\"sk-estimator-id-2\" type=\"checkbox\" ><label for=\"sk-estimator-id-2\" class=\"sk-toggleable__label sk-toggleable__label-arrow\">columntransformer: ColumnTransformer</label><div class=\"sk-toggleable__content\"><pre>ColumnTransformer(transformers=[(&#x27;Categorical&#x27;,\n",
       "                                 OneHotEncoder(handle_unknown=&#x27;ignore&#x27;),\n",
       "                                 [&#x27;Country_Name&#x27;]),\n",
       "                                (&#x27;Numerical&#x27;, StandardScaler(),\n",
       "                                 [&#x27;Year&#x27;,\n",
       "                                  &#x27;Access_to_electricity_(%_of_population)&#x27;,\n",
       "                                  &#x27;Adjusted_net_enrollment_rate,_primary_(%_of_primary_school_age_children)&#x27;,\n",
       "                                  &#x27;Adjusted_net_national_income_(constant_2015_US$)&#x27;,\n",
       "                                  &#x27;Adjusted_net_national_income_per_capita...\n",
       "                                  &#x27;Foreign_direct_investment,_net_inflows_(%_of_GDP)&#x27;,\n",
       "                                  &#x27;Foreign_direct_investment,_net_outflows_(%_of_GDP)&#x27;,\n",
       "                                  &#x27;GDP_(constant_2015_US$)&#x27;,\n",
       "                                  &#x27;GDP_(constant_LCU)&#x27;, &#x27;GDP_growth_(annual_%)&#x27;,\n",
       "                                  &#x27;GDP_per_capita_(constant_LCU)&#x27;,\n",
       "                                  &#x27;GDP_per_capita_growth_(annual_%)&#x27;,\n",
       "                                  &#x27;GDP_per_capita,_PPP_(constant_2017_international_$)&#x27;,\n",
       "                                  &#x27;GDP_per_person_employed_(constant_2017_PPP_$)&#x27;,\n",
       "                                  &#x27;GDP,_PPP_(constant_2017_international_$)&#x27;, ...])])</pre></div></div></div><div class=\"sk-parallel\"><div class=\"sk-parallel-item\"><div class=\"sk-item\"><div class=\"sk-label-container\"><div class=\"sk-label sk-toggleable\"><input class=\"sk-toggleable__control sk-hidden--visually\" id=\"sk-estimator-id-3\" type=\"checkbox\" ><label for=\"sk-estimator-id-3\" class=\"sk-toggleable__label sk-toggleable__label-arrow\">Categorical</label><div class=\"sk-toggleable__content\"><pre>[&#x27;Country_Name&#x27;]</pre></div></div></div><div class=\"sk-serial\"><div class=\"sk-item\"><div class=\"sk-estimator sk-toggleable\"><input class=\"sk-toggleable__control sk-hidden--visually\" id=\"sk-estimator-id-4\" type=\"checkbox\" ><label for=\"sk-estimator-id-4\" class=\"sk-toggleable__label sk-toggleable__label-arrow\">OneHotEncoder</label><div class=\"sk-toggleable__content\"><pre>OneHotEncoder(handle_unknown=&#x27;ignore&#x27;)</pre></div></div></div></div></div></div><div class=\"sk-parallel-item\"><div class=\"sk-item\"><div class=\"sk-label-container\"><div class=\"sk-label sk-toggleable\"><input class=\"sk-toggleable__control sk-hidden--visually\" id=\"sk-estimator-id-5\" type=\"checkbox\" ><label for=\"sk-estimator-id-5\" class=\"sk-toggleable__label sk-toggleable__label-arrow\">Numerical</label><div class=\"sk-toggleable__content\"><pre>[&#x27;Year&#x27;, &#x27;Access_to_electricity_(%_of_population)&#x27;, &#x27;Adjusted_net_enrollment_rate,_primary_(%_of_primary_school_age_children)&#x27;, &#x27;Adjusted_net_national_income_(constant_2015_US$)&#x27;, &#x27;Adjusted_net_national_income_per_capita_(annual_%_growth)&#x27;, &#x27;Adjusted_net_national_income_per_capita_(constant_2015_US$)&#x27;, &#x27;Annualized_average_growth_rate_in_per_capita_real_survey_mean_consumption_or_income,_bottom_40%_of_population_(%)&#x27;, &#x27;Annualized_average_growth_rate_in_per_capita_real_survey_mean_consumption_or_income,_total_population_(%)&#x27;, &#x27;CPIA_social_protection_rating_(1=low_to_6=high)&#x27;, &#x27;CPIA_trade_rating_(1=low_to_6=high)&#x27;, &#x27;Central_government_debt,_total_(%_of_GDP)&#x27;, &#x27;Children_out_of_school,_primary&#x27;, &#x27;Current_account_balance_(%_of_GDP)&#x27;, &#x27;Current_health_expenditure_(%_of_GDP)&#x27;, &#x27;Current_health_expenditure_per_capita,_PPP_(current_international_$)&#x27;, &#x27;Employment_to_population_ratio,_15+,_total_(%)_(modeled_ILO_estimate)&#x27;, &#x27;Exports_of_goods_and_services_(%_of_GDP)&#x27;, &#x27;Exports_of_goods_and_services_(annual_%_growth)&#x27;, &#x27;Final_consumption_expenditure_(%_of_GDP)&#x27;, &#x27;Final_consumption_expenditure_(annual_%_growth)&#x27;, &#x27;Foreign_direct_investment,_net_inflows_(%_of_GDP)&#x27;, &#x27;Foreign_direct_investment,_net_outflows_(%_of_GDP)&#x27;, &#x27;GDP_(constant_2015_US$)&#x27;, &#x27;GDP_(constant_LCU)&#x27;, &#x27;GDP_growth_(annual_%)&#x27;, &#x27;GDP_per_capita_(constant_LCU)&#x27;, &#x27;GDP_per_capita_growth_(annual_%)&#x27;, &#x27;GDP_per_capita,_PPP_(constant_2017_international_$)&#x27;, &#x27;GDP_per_person_employed_(constant_2017_PPP_$)&#x27;, &#x27;GDP,_PPP_(constant_2017_international_$)&#x27;, &#x27;Gini_index&#x27;, &#x27;Government_expenditure_on_education,_total_(%_of_GDP)&#x27;, &#x27;Government_expenditure_on_education,_total_(%_of_government_expenditure)&#x27;, &#x27;Gross_domestic_income_(constant_LCU)&#x27;, &#x27;Gross_domestic_savings_(%_of_GDP)&#x27;, &#x27;Gross_national_expenditure_(constant_2015_US$)&#x27;, &#x27;Gross_savings_(%_of_GDP)&#x27;, &#x27;Hospital_beds_(per_1,000_people)&#x27;, &#x27;Human_capital_index_(HCI)_(scale_0-1)&#x27;, &#x27;Human_capital_index_(HCI),_lower_bound_(scale_0-1)&#x27;, &#x27;Human_capital_index_(HCI),_upper_bound_(scale_0-1)&#x27;, &#x27;Income_share_held_by_highest_10%&#x27;, &#x27;Income_share_held_by_highest_20%&#x27;, &#x27;Income_share_held_by_lowest_10%&#x27;, &#x27;Income_share_held_by_lowest_20%&#x27;, &#x27;Increase_in_poverty_gap_at_$1.90_($_2011_PPP)_poverty_line_due_to_out-of-pocket_health_care_expenditure_(%_of_poverty_line)&#x27;, &#x27;Increase_in_poverty_gap_at_$1.90_($_2011_PPP)_poverty_line_due_to_out-of-pocket_health_care_expenditure_(USD)&#x27;, &#x27;Increase_in_poverty_gap_at_$3.20_($_2011_PPP)_poverty_line_due_to_out-of-pocket_health_care_expenditure_(%_of_poverty_line)&#x27;, &#x27;Increase_in_poverty_gap_at_$3.20_($_2011_PPP)_poverty_line_due_to_out-of-pocket_health_care_expenditure_(USD)&#x27;, &#x27;Inflation,_GDP_deflator_(annual_%)&#x27;, &#x27;Inflation,_GDP_deflator:_linked_series_(annual_%)&#x27;, &#x27;Inflation,_consumer_prices_(annual_%)&#x27;, &#x27;Labor_force,_total&#x27;, &#x27;Life_expectancy_at_birth,_total_(years)&#x27;, &#x27;Literacy_rate,_adult_total_(%_of_people_ages_15_and_above)&#x27;, &#x27;Literacy_rate,_youth_total_(%_of_people_ages_15-24)&#x27;, &#x27;Mortality_rate,_infant_(per_1,000_live_births)&#x27;, &#x27;Mortality_rate,_under-5_(per_1,000_live_births)&#x27;, &#x27;Net_acquisition_of_financial_assets_(current_LCU)&#x27;, &#x27;Net_barter_terms_of_trade_index_(2000_=_100)&#x27;, &#x27;Net_financial_flows,_bilateral_(NFL,_current_US$)&#x27;, &#x27;Net_foreign_assets_(current_LCU)&#x27;, &#x27;Net_investment_in_nonfinancial_assets_(current_LCU)&#x27;, &#x27;Net_lending_(+)_/_net_borrowing_(-)_(current_LCU)&#x27;, &#x27;Net_trade_in_goods_(BoP,_current_US$)&#x27;, &#x27;Number_of_under-five_deaths&#x27;, &#x27;Ores_and_metals_exports_(%_of_merchandise_exports)&#x27;, &#x27;Population,_total&#x27;, &#x27;Poverty_gap_at_$2.15_a_day_(2017_PPP)_(%)&#x27;, &#x27;Poverty_gap_at_$3.65_a_day_(2017_PPP)_(%)&#x27;, &#x27;Poverty_gap_at_$6.85_a_day_(2017_PPP)_(%)&#x27;, &#x27;Poverty_headcount_ratio_at_$2.15_a_day_(2017_PPP)_(%_of_population)&#x27;, &#x27;Poverty_headcount_ratio_at_$3.65_a_day_(2017_PPP)_(%_of_population)&#x27;, &#x27;Poverty_headcount_ratio_at_$6.85_a_day_(2017_PPP)_(%_of_population)&#x27;, &#x27;Poverty_headcount_ratio_at_national_poverty_lines_(%_of_population)&#x27;, &#x27;Present_value_of_external_debt_(current_US$)&#x27;, &#x27;Price_level_ratio_of_PPP_conversion_factor_(GDP)_to_market_exchange_rate&#x27;, &#x27;Primary_completion_rate,_total_(%_of_relevant_age_group)&#x27;, &#x27;Public_private_partnerships_investment_in_ICT_(current_US$)&#x27;, &#x27;Public_private_partnerships_investment_in_energy_(current_US$)&#x27;, &#x27;Public_private_partnerships_investment_in_transport_(current_US$)&#x27;, &#x27;Public_private_partnerships_investment_in_water_and_sanitation_(current_US$)&#x27;, &#x27;Rail_lines_(total_route-km)&#x27;, &#x27;Railways,_goods_transported_(million_ton-km)&#x27;, &#x27;Railways,_passengers_carried_(million_passenger-km)&#x27;, &#x27;Real_interest_rate_(%)&#x27;, &#x27;Renewable_electricity_output_(%_of_total_electricity_output)&#x27;, &#x27;Renewable_energy_consumption_(%_of_total_final_energy_consumption)&#x27;, &#x27;Renewable_internal_freshwater_resources_per_capita_(cubic_meters)&#x27;, &#x27;Rural_land_area_(sq._km)&#x27;, &#x27;Rural_population&#x27;, &#x27;Taxes_on_exports_(%_of_tax_revenue)&#x27;, &#x27;Taxes_on_exports_(current_LCU)&#x27;, &#x27;Taxes_on_international_trade_(%_of_revenue)&#x27;, &#x27;Taxes_on_international_trade_(current_LCU)&#x27;, &#x27;Trade_(%_of_GDP)&#x27;, &#x27;Trade_in_services_(%_of_GDP)&#x27;, &#x27;Unemployment,_total_(%_of_total_labor_force)_(modeled_ILO_estimate)&#x27;, &#x27;Unemployment,_youth_total_(%_of_total_labor_force_ages_15-24)_(modeled_ILO_estimate)&#x27;, &#x27;Urban_population&#x27;, &#x27;Urban_population_(%_of_total_population)&#x27;, &#x27;Urban_population_growth_(annual_%)&#x27;, &#x27;Vulnerable_employment,_total_(%_of_total_employment)_(modeled_ILO_estimate)&#x27;, &#x27;Wage_and_salaried_workers,_total_(%_of_total_employment)_(modeled_ILO_estimate)&#x27;]</pre></div></div></div><div class=\"sk-serial\"><div class=\"sk-item\"><div class=\"sk-estimator sk-toggleable\"><input class=\"sk-toggleable__control sk-hidden--visually\" id=\"sk-estimator-id-6\" type=\"checkbox\" ><label for=\"sk-estimator-id-6\" class=\"sk-toggleable__label sk-toggleable__label-arrow\">StandardScaler</label><div class=\"sk-toggleable__content\"><pre>StandardScaler()</pre></div></div></div></div></div></div></div></div><div class=\"sk-item\"><div class=\"sk-estimator sk-toggleable\"><input class=\"sk-toggleable__control sk-hidden--visually\" id=\"sk-estimator-id-7\" type=\"checkbox\" ><label for=\"sk-estimator-id-7\" class=\"sk-toggleable__label sk-toggleable__label-arrow\">MLPRegressor</label><div class=\"sk-toggleable__content\"><pre>MLPRegressor()</pre></div></div></div></div></div></div></div>"
      ],
      "text/plain": [
       "Pipeline(steps=[('columntransformer',\n",
       "                 ColumnTransformer(transformers=[('Categorical',\n",
       "                                                  OneHotEncoder(handle_unknown='ignore'),\n",
       "                                                  ['Country_Name']),\n",
       "                                                 ('Numerical', StandardScaler(),\n",
       "                                                  ['Year',\n",
       "                                                   'Access_to_electricity_(%_of_population)',\n",
       "                                                   'Adjusted_net_enrollment_rate,_primary_(%_of_primary_school_age_children)',\n",
       "                                                   'Adjusted_net_national_income_(constant_2015_US$)',\n",
       "                                                   'Ad...\n",
       "                                                   'Foreign_direct_investment,_net_outflows_(%_of_GDP)',\n",
       "                                                   'GDP_(constant_2015_US$)',\n",
       "                                                   'GDP_(constant_LCU)',\n",
       "                                                   'GDP_growth_(annual_%)',\n",
       "                                                   'GDP_per_capita_(constant_LCU)',\n",
       "                                                   'GDP_per_capita_growth_(annual_%)',\n",
       "                                                   'GDP_per_capita,_PPP_(constant_2017_international_$)',\n",
       "                                                   'GDP_per_person_employed_(constant_2017_PPP_$)',\n",
       "                                                   'GDP,_PPP_(constant_2017_international_$)', ...])])),\n",
       "                ('mlpregressor', MLPRegressor())])"
      ]
     },
     "execution_count": 14,
     "metadata": {},
     "output_type": "execute_result"
    }
   ],
   "source": [
    "set_config(display=\"diagram\")\n",
    "pipe"
   ]
  },
  {
   "cell_type": "code",
   "execution_count": 15,
   "id": "93c86ccf",
   "metadata": {},
   "outputs": [
    {
     "data": {
      "text/html": [
       "<style>#sk-container-id-2 {color: black;}#sk-container-id-2 pre{padding: 0;}#sk-container-id-2 div.sk-toggleable {background-color: white;}#sk-container-id-2 label.sk-toggleable__label {cursor: pointer;display: block;width: 100%;margin-bottom: 0;padding: 0.3em;box-sizing: border-box;text-align: center;}#sk-container-id-2 label.sk-toggleable__label-arrow:before {content: \"▸\";float: left;margin-right: 0.25em;color: #696969;}#sk-container-id-2 label.sk-toggleable__label-arrow:hover:before {color: black;}#sk-container-id-2 div.sk-estimator:hover label.sk-toggleable__label-arrow:before {color: black;}#sk-container-id-2 div.sk-toggleable__content {max-height: 0;max-width: 0;overflow: hidden;text-align: left;background-color: #f0f8ff;}#sk-container-id-2 div.sk-toggleable__content pre {margin: 0.2em;color: black;border-radius: 0.25em;background-color: #f0f8ff;}#sk-container-id-2 input.sk-toggleable__control:checked~div.sk-toggleable__content {max-height: 200px;max-width: 100%;overflow: auto;}#sk-container-id-2 input.sk-toggleable__control:checked~label.sk-toggleable__label-arrow:before {content: \"▾\";}#sk-container-id-2 div.sk-estimator input.sk-toggleable__control:checked~label.sk-toggleable__label {background-color: #d4ebff;}#sk-container-id-2 div.sk-label input.sk-toggleable__control:checked~label.sk-toggleable__label {background-color: #d4ebff;}#sk-container-id-2 input.sk-hidden--visually {border: 0;clip: rect(1px 1px 1px 1px);clip: rect(1px, 1px, 1px, 1px);height: 1px;margin: -1px;overflow: hidden;padding: 0;position: absolute;width: 1px;}#sk-container-id-2 div.sk-estimator {font-family: monospace;background-color: #f0f8ff;border: 1px dotted black;border-radius: 0.25em;box-sizing: border-box;margin-bottom: 0.5em;}#sk-container-id-2 div.sk-estimator:hover {background-color: #d4ebff;}#sk-container-id-2 div.sk-parallel-item::after {content: \"\";width: 100%;border-bottom: 1px solid gray;flex-grow: 1;}#sk-container-id-2 div.sk-label:hover label.sk-toggleable__label {background-color: #d4ebff;}#sk-container-id-2 div.sk-serial::before {content: \"\";position: absolute;border-left: 1px solid gray;box-sizing: border-box;top: 0;bottom: 0;left: 50%;z-index: 0;}#sk-container-id-2 div.sk-serial {display: flex;flex-direction: column;align-items: center;background-color: white;padding-right: 0.2em;padding-left: 0.2em;position: relative;}#sk-container-id-2 div.sk-item {position: relative;z-index: 1;}#sk-container-id-2 div.sk-parallel {display: flex;align-items: stretch;justify-content: center;background-color: white;position: relative;}#sk-container-id-2 div.sk-item::before, #sk-container-id-2 div.sk-parallel-item::before {content: \"\";position: absolute;border-left: 1px solid gray;box-sizing: border-box;top: 0;bottom: 0;left: 50%;z-index: -1;}#sk-container-id-2 div.sk-parallel-item {display: flex;flex-direction: column;z-index: 1;position: relative;background-color: white;}#sk-container-id-2 div.sk-parallel-item:first-child::after {align-self: flex-end;width: 50%;}#sk-container-id-2 div.sk-parallel-item:last-child::after {align-self: flex-start;width: 50%;}#sk-container-id-2 div.sk-parallel-item:only-child::after {width: 0;}#sk-container-id-2 div.sk-dashed-wrapped {border: 1px dashed gray;margin: 0 0.4em 0.5em 0.4em;box-sizing: border-box;padding-bottom: 0.4em;background-color: white;}#sk-container-id-2 div.sk-label label {font-family: monospace;font-weight: bold;display: inline-block;line-height: 1.2em;}#sk-container-id-2 div.sk-label-container {text-align: center;}#sk-container-id-2 div.sk-container {/* jupyter's `normalize.less` sets `[hidden] { display: none; }` but bootstrap.min.css set `[hidden] { display: none !important; }` so we also need the `!important` here to be able to override the default hidden behavior on the sphinx rendered scikit-learn.org. See: https://github.com/scikit-learn/scikit-learn/issues/21755 */display: inline-block !important;position: relative;}#sk-container-id-2 div.sk-text-repr-fallback {display: none;}</style><div id=\"sk-container-id-2\" class=\"sk-top-container\"><div class=\"sk-text-repr-fallback\"><pre>Pipeline(steps=[(&#x27;columntransformer&#x27;,\n",
       "                 ColumnTransformer(transformers=[(&#x27;Categorical&#x27;,\n",
       "                                                  OneHotEncoder(handle_unknown=&#x27;ignore&#x27;),\n",
       "                                                  [&#x27;Country_Name&#x27;]),\n",
       "                                                 (&#x27;Numerical&#x27;, StandardScaler(),\n",
       "                                                  [&#x27;Year&#x27;,\n",
       "                                                   &#x27;Access_to_electricity_(%_of_population)&#x27;,\n",
       "                                                   &#x27;Adjusted_net_enrollment_rate,_primary_(%_of_primary_school_age_children)&#x27;,\n",
       "                                                   &#x27;Adjusted_net_national_income_(constant_2015_US$)&#x27;,\n",
       "                                                   &#x27;Ad...\n",
       "                                                   &#x27;Foreign_direct_investment,_net_outflows_(%_of_GDP)&#x27;,\n",
       "                                                   &#x27;GDP_(constant_2015_US$)&#x27;,\n",
       "                                                   &#x27;GDP_(constant_LCU)&#x27;,\n",
       "                                                   &#x27;GDP_growth_(annual_%)&#x27;,\n",
       "                                                   &#x27;GDP_per_capita_(constant_LCU)&#x27;,\n",
       "                                                   &#x27;GDP_per_capita_growth_(annual_%)&#x27;,\n",
       "                                                   &#x27;GDP_per_capita,_PPP_(constant_2017_international_$)&#x27;,\n",
       "                                                   &#x27;GDP_per_person_employed_(constant_2017_PPP_$)&#x27;,\n",
       "                                                   &#x27;GDP,_PPP_(constant_2017_international_$)&#x27;, ...])])),\n",
       "                (&#x27;mlpregressor&#x27;, MLPRegressor())])</pre><b>In a Jupyter environment, please rerun this cell to show the HTML representation or trust the notebook. <br />On GitHub, the HTML representation is unable to render, please try loading this page with nbviewer.org.</b></div><div class=\"sk-container\" hidden><div class=\"sk-item sk-dashed-wrapped\"><div class=\"sk-label-container\"><div class=\"sk-label sk-toggleable\"><input class=\"sk-toggleable__control sk-hidden--visually\" id=\"sk-estimator-id-8\" type=\"checkbox\" ><label for=\"sk-estimator-id-8\" class=\"sk-toggleable__label sk-toggleable__label-arrow\">Pipeline</label><div class=\"sk-toggleable__content\"><pre>Pipeline(steps=[(&#x27;columntransformer&#x27;,\n",
       "                 ColumnTransformer(transformers=[(&#x27;Categorical&#x27;,\n",
       "                                                  OneHotEncoder(handle_unknown=&#x27;ignore&#x27;),\n",
       "                                                  [&#x27;Country_Name&#x27;]),\n",
       "                                                 (&#x27;Numerical&#x27;, StandardScaler(),\n",
       "                                                  [&#x27;Year&#x27;,\n",
       "                                                   &#x27;Access_to_electricity_(%_of_population)&#x27;,\n",
       "                                                   &#x27;Adjusted_net_enrollment_rate,_primary_(%_of_primary_school_age_children)&#x27;,\n",
       "                                                   &#x27;Adjusted_net_national_income_(constant_2015_US$)&#x27;,\n",
       "                                                   &#x27;Ad...\n",
       "                                                   &#x27;Foreign_direct_investment,_net_outflows_(%_of_GDP)&#x27;,\n",
       "                                                   &#x27;GDP_(constant_2015_US$)&#x27;,\n",
       "                                                   &#x27;GDP_(constant_LCU)&#x27;,\n",
       "                                                   &#x27;GDP_growth_(annual_%)&#x27;,\n",
       "                                                   &#x27;GDP_per_capita_(constant_LCU)&#x27;,\n",
       "                                                   &#x27;GDP_per_capita_growth_(annual_%)&#x27;,\n",
       "                                                   &#x27;GDP_per_capita,_PPP_(constant_2017_international_$)&#x27;,\n",
       "                                                   &#x27;GDP_per_person_employed_(constant_2017_PPP_$)&#x27;,\n",
       "                                                   &#x27;GDP,_PPP_(constant_2017_international_$)&#x27;, ...])])),\n",
       "                (&#x27;mlpregressor&#x27;, MLPRegressor())])</pre></div></div></div><div class=\"sk-serial\"><div class=\"sk-item sk-dashed-wrapped\"><div class=\"sk-label-container\"><div class=\"sk-label sk-toggleable\"><input class=\"sk-toggleable__control sk-hidden--visually\" id=\"sk-estimator-id-9\" type=\"checkbox\" ><label for=\"sk-estimator-id-9\" class=\"sk-toggleable__label sk-toggleable__label-arrow\">columntransformer: ColumnTransformer</label><div class=\"sk-toggleable__content\"><pre>ColumnTransformer(transformers=[(&#x27;Categorical&#x27;,\n",
       "                                 OneHotEncoder(handle_unknown=&#x27;ignore&#x27;),\n",
       "                                 [&#x27;Country_Name&#x27;]),\n",
       "                                (&#x27;Numerical&#x27;, StandardScaler(),\n",
       "                                 [&#x27;Year&#x27;,\n",
       "                                  &#x27;Access_to_electricity_(%_of_population)&#x27;,\n",
       "                                  &#x27;Adjusted_net_enrollment_rate,_primary_(%_of_primary_school_age_children)&#x27;,\n",
       "                                  &#x27;Adjusted_net_national_income_(constant_2015_US$)&#x27;,\n",
       "                                  &#x27;Adjusted_net_national_income_per_capita...\n",
       "                                  &#x27;Foreign_direct_investment,_net_inflows_(%_of_GDP)&#x27;,\n",
       "                                  &#x27;Foreign_direct_investment,_net_outflows_(%_of_GDP)&#x27;,\n",
       "                                  &#x27;GDP_(constant_2015_US$)&#x27;,\n",
       "                                  &#x27;GDP_(constant_LCU)&#x27;, &#x27;GDP_growth_(annual_%)&#x27;,\n",
       "                                  &#x27;GDP_per_capita_(constant_LCU)&#x27;,\n",
       "                                  &#x27;GDP_per_capita_growth_(annual_%)&#x27;,\n",
       "                                  &#x27;GDP_per_capita,_PPP_(constant_2017_international_$)&#x27;,\n",
       "                                  &#x27;GDP_per_person_employed_(constant_2017_PPP_$)&#x27;,\n",
       "                                  &#x27;GDP,_PPP_(constant_2017_international_$)&#x27;, ...])])</pre></div></div></div><div class=\"sk-parallel\"><div class=\"sk-parallel-item\"><div class=\"sk-item\"><div class=\"sk-label-container\"><div class=\"sk-label sk-toggleable\"><input class=\"sk-toggleable__control sk-hidden--visually\" id=\"sk-estimator-id-10\" type=\"checkbox\" ><label for=\"sk-estimator-id-10\" class=\"sk-toggleable__label sk-toggleable__label-arrow\">Categorical</label><div class=\"sk-toggleable__content\"><pre>[&#x27;Country_Name&#x27;]</pre></div></div></div><div class=\"sk-serial\"><div class=\"sk-item\"><div class=\"sk-estimator sk-toggleable\"><input class=\"sk-toggleable__control sk-hidden--visually\" id=\"sk-estimator-id-11\" type=\"checkbox\" ><label for=\"sk-estimator-id-11\" class=\"sk-toggleable__label sk-toggleable__label-arrow\">OneHotEncoder</label><div class=\"sk-toggleable__content\"><pre>OneHotEncoder(handle_unknown=&#x27;ignore&#x27;)</pre></div></div></div></div></div></div><div class=\"sk-parallel-item\"><div class=\"sk-item\"><div class=\"sk-label-container\"><div class=\"sk-label sk-toggleable\"><input class=\"sk-toggleable__control sk-hidden--visually\" id=\"sk-estimator-id-12\" type=\"checkbox\" ><label for=\"sk-estimator-id-12\" class=\"sk-toggleable__label sk-toggleable__label-arrow\">Numerical</label><div class=\"sk-toggleable__content\"><pre>[&#x27;Year&#x27;, &#x27;Access_to_electricity_(%_of_population)&#x27;, &#x27;Adjusted_net_enrollment_rate,_primary_(%_of_primary_school_age_children)&#x27;, &#x27;Adjusted_net_national_income_(constant_2015_US$)&#x27;, &#x27;Adjusted_net_national_income_per_capita_(annual_%_growth)&#x27;, &#x27;Adjusted_net_national_income_per_capita_(constant_2015_US$)&#x27;, &#x27;Annualized_average_growth_rate_in_per_capita_real_survey_mean_consumption_or_income,_bottom_40%_of_population_(%)&#x27;, &#x27;Annualized_average_growth_rate_in_per_capita_real_survey_mean_consumption_or_income,_total_population_(%)&#x27;, &#x27;CPIA_social_protection_rating_(1=low_to_6=high)&#x27;, &#x27;CPIA_trade_rating_(1=low_to_6=high)&#x27;, &#x27;Central_government_debt,_total_(%_of_GDP)&#x27;, &#x27;Children_out_of_school,_primary&#x27;, &#x27;Current_account_balance_(%_of_GDP)&#x27;, &#x27;Current_health_expenditure_(%_of_GDP)&#x27;, &#x27;Current_health_expenditure_per_capita,_PPP_(current_international_$)&#x27;, &#x27;Employment_to_population_ratio,_15+,_total_(%)_(modeled_ILO_estimate)&#x27;, &#x27;Exports_of_goods_and_services_(%_of_GDP)&#x27;, &#x27;Exports_of_goods_and_services_(annual_%_growth)&#x27;, &#x27;Final_consumption_expenditure_(%_of_GDP)&#x27;, &#x27;Final_consumption_expenditure_(annual_%_growth)&#x27;, &#x27;Foreign_direct_investment,_net_inflows_(%_of_GDP)&#x27;, &#x27;Foreign_direct_investment,_net_outflows_(%_of_GDP)&#x27;, &#x27;GDP_(constant_2015_US$)&#x27;, &#x27;GDP_(constant_LCU)&#x27;, &#x27;GDP_growth_(annual_%)&#x27;, &#x27;GDP_per_capita_(constant_LCU)&#x27;, &#x27;GDP_per_capita_growth_(annual_%)&#x27;, &#x27;GDP_per_capita,_PPP_(constant_2017_international_$)&#x27;, &#x27;GDP_per_person_employed_(constant_2017_PPP_$)&#x27;, &#x27;GDP,_PPP_(constant_2017_international_$)&#x27;, &#x27;Gini_index&#x27;, &#x27;Government_expenditure_on_education,_total_(%_of_GDP)&#x27;, &#x27;Government_expenditure_on_education,_total_(%_of_government_expenditure)&#x27;, &#x27;Gross_domestic_income_(constant_LCU)&#x27;, &#x27;Gross_domestic_savings_(%_of_GDP)&#x27;, &#x27;Gross_national_expenditure_(constant_2015_US$)&#x27;, &#x27;Gross_savings_(%_of_GDP)&#x27;, &#x27;Hospital_beds_(per_1,000_people)&#x27;, &#x27;Human_capital_index_(HCI)_(scale_0-1)&#x27;, &#x27;Human_capital_index_(HCI),_lower_bound_(scale_0-1)&#x27;, &#x27;Human_capital_index_(HCI),_upper_bound_(scale_0-1)&#x27;, &#x27;Income_share_held_by_highest_10%&#x27;, &#x27;Income_share_held_by_highest_20%&#x27;, &#x27;Income_share_held_by_lowest_10%&#x27;, &#x27;Income_share_held_by_lowest_20%&#x27;, &#x27;Increase_in_poverty_gap_at_$1.90_($_2011_PPP)_poverty_line_due_to_out-of-pocket_health_care_expenditure_(%_of_poverty_line)&#x27;, &#x27;Increase_in_poverty_gap_at_$1.90_($_2011_PPP)_poverty_line_due_to_out-of-pocket_health_care_expenditure_(USD)&#x27;, &#x27;Increase_in_poverty_gap_at_$3.20_($_2011_PPP)_poverty_line_due_to_out-of-pocket_health_care_expenditure_(%_of_poverty_line)&#x27;, &#x27;Increase_in_poverty_gap_at_$3.20_($_2011_PPP)_poverty_line_due_to_out-of-pocket_health_care_expenditure_(USD)&#x27;, &#x27;Inflation,_GDP_deflator_(annual_%)&#x27;, &#x27;Inflation,_GDP_deflator:_linked_series_(annual_%)&#x27;, &#x27;Inflation,_consumer_prices_(annual_%)&#x27;, &#x27;Labor_force,_total&#x27;, &#x27;Life_expectancy_at_birth,_total_(years)&#x27;, &#x27;Literacy_rate,_adult_total_(%_of_people_ages_15_and_above)&#x27;, &#x27;Literacy_rate,_youth_total_(%_of_people_ages_15-24)&#x27;, &#x27;Mortality_rate,_infant_(per_1,000_live_births)&#x27;, &#x27;Mortality_rate,_under-5_(per_1,000_live_births)&#x27;, &#x27;Net_acquisition_of_financial_assets_(current_LCU)&#x27;, &#x27;Net_barter_terms_of_trade_index_(2000_=_100)&#x27;, &#x27;Net_financial_flows,_bilateral_(NFL,_current_US$)&#x27;, &#x27;Net_foreign_assets_(current_LCU)&#x27;, &#x27;Net_investment_in_nonfinancial_assets_(current_LCU)&#x27;, &#x27;Net_lending_(+)_/_net_borrowing_(-)_(current_LCU)&#x27;, &#x27;Net_trade_in_goods_(BoP,_current_US$)&#x27;, &#x27;Number_of_under-five_deaths&#x27;, &#x27;Ores_and_metals_exports_(%_of_merchandise_exports)&#x27;, &#x27;Population,_total&#x27;, &#x27;Poverty_gap_at_$2.15_a_day_(2017_PPP)_(%)&#x27;, &#x27;Poverty_gap_at_$3.65_a_day_(2017_PPP)_(%)&#x27;, &#x27;Poverty_gap_at_$6.85_a_day_(2017_PPP)_(%)&#x27;, &#x27;Poverty_headcount_ratio_at_$2.15_a_day_(2017_PPP)_(%_of_population)&#x27;, &#x27;Poverty_headcount_ratio_at_$3.65_a_day_(2017_PPP)_(%_of_population)&#x27;, &#x27;Poverty_headcount_ratio_at_$6.85_a_day_(2017_PPP)_(%_of_population)&#x27;, &#x27;Poverty_headcount_ratio_at_national_poverty_lines_(%_of_population)&#x27;, &#x27;Present_value_of_external_debt_(current_US$)&#x27;, &#x27;Price_level_ratio_of_PPP_conversion_factor_(GDP)_to_market_exchange_rate&#x27;, &#x27;Primary_completion_rate,_total_(%_of_relevant_age_group)&#x27;, &#x27;Public_private_partnerships_investment_in_ICT_(current_US$)&#x27;, &#x27;Public_private_partnerships_investment_in_energy_(current_US$)&#x27;, &#x27;Public_private_partnerships_investment_in_transport_(current_US$)&#x27;, &#x27;Public_private_partnerships_investment_in_water_and_sanitation_(current_US$)&#x27;, &#x27;Rail_lines_(total_route-km)&#x27;, &#x27;Railways,_goods_transported_(million_ton-km)&#x27;, &#x27;Railways,_passengers_carried_(million_passenger-km)&#x27;, &#x27;Real_interest_rate_(%)&#x27;, &#x27;Renewable_electricity_output_(%_of_total_electricity_output)&#x27;, &#x27;Renewable_energy_consumption_(%_of_total_final_energy_consumption)&#x27;, &#x27;Renewable_internal_freshwater_resources_per_capita_(cubic_meters)&#x27;, &#x27;Rural_land_area_(sq._km)&#x27;, &#x27;Rural_population&#x27;, &#x27;Taxes_on_exports_(%_of_tax_revenue)&#x27;, &#x27;Taxes_on_exports_(current_LCU)&#x27;, &#x27;Taxes_on_international_trade_(%_of_revenue)&#x27;, &#x27;Taxes_on_international_trade_(current_LCU)&#x27;, &#x27;Trade_(%_of_GDP)&#x27;, &#x27;Trade_in_services_(%_of_GDP)&#x27;, &#x27;Unemployment,_total_(%_of_total_labor_force)_(modeled_ILO_estimate)&#x27;, &#x27;Unemployment,_youth_total_(%_of_total_labor_force_ages_15-24)_(modeled_ILO_estimate)&#x27;, &#x27;Urban_population&#x27;, &#x27;Urban_population_(%_of_total_population)&#x27;, &#x27;Urban_population_growth_(annual_%)&#x27;, &#x27;Vulnerable_employment,_total_(%_of_total_employment)_(modeled_ILO_estimate)&#x27;, &#x27;Wage_and_salaried_workers,_total_(%_of_total_employment)_(modeled_ILO_estimate)&#x27;]</pre></div></div></div><div class=\"sk-serial\"><div class=\"sk-item\"><div class=\"sk-estimator sk-toggleable\"><input class=\"sk-toggleable__control sk-hidden--visually\" id=\"sk-estimator-id-13\" type=\"checkbox\" ><label for=\"sk-estimator-id-13\" class=\"sk-toggleable__label sk-toggleable__label-arrow\">StandardScaler</label><div class=\"sk-toggleable__content\"><pre>StandardScaler()</pre></div></div></div></div></div></div></div></div><div class=\"sk-item\"><div class=\"sk-estimator sk-toggleable\"><input class=\"sk-toggleable__control sk-hidden--visually\" id=\"sk-estimator-id-14\" type=\"checkbox\" ><label for=\"sk-estimator-id-14\" class=\"sk-toggleable__label sk-toggleable__label-arrow\">MLPRegressor</label><div class=\"sk-toggleable__content\"><pre>MLPRegressor()</pre></div></div></div></div></div></div></div>"
      ],
      "text/plain": [
       "Pipeline(steps=[('columntransformer',\n",
       "                 ColumnTransformer(transformers=[('Categorical',\n",
       "                                                  OneHotEncoder(handle_unknown='ignore'),\n",
       "                                                  ['Country_Name']),\n",
       "                                                 ('Numerical', StandardScaler(),\n",
       "                                                  ['Year',\n",
       "                                                   'Access_to_electricity_(%_of_population)',\n",
       "                                                   'Adjusted_net_enrollment_rate,_primary_(%_of_primary_school_age_children)',\n",
       "                                                   'Adjusted_net_national_income_(constant_2015_US$)',\n",
       "                                                   'Ad...\n",
       "                                                   'Foreign_direct_investment,_net_outflows_(%_of_GDP)',\n",
       "                                                   'GDP_(constant_2015_US$)',\n",
       "                                                   'GDP_(constant_LCU)',\n",
       "                                                   'GDP_growth_(annual_%)',\n",
       "                                                   'GDP_per_capita_(constant_LCU)',\n",
       "                                                   'GDP_per_capita_growth_(annual_%)',\n",
       "                                                   'GDP_per_capita,_PPP_(constant_2017_international_$)',\n",
       "                                                   'GDP_per_person_employed_(constant_2017_PPP_$)',\n",
       "                                                   'GDP,_PPP_(constant_2017_international_$)', ...])])),\n",
       "                ('mlpregressor', MLPRegressor())])"
      ]
     },
     "execution_count": 15,
     "metadata": {},
     "output_type": "execute_result"
    }
   ],
   "source": [
    "pipe.fit(X, Y)\n"
   ]
  },
  {
   "cell_type": "code",
   "execution_count": null,
   "id": "9efdf19c",
   "metadata": {},
   "outputs": [],
   "source": [
    "# Get MSE Score for Pipeline"
   ]
  },
  {
   "cell_type": "code",
   "execution_count": 17,
   "id": "247c5713",
   "metadata": {},
   "outputs": [
    {
     "name": "stdout",
     "output_type": "stream",
     "text": [
      "Mean Squared Error: 7.212149350016189e+21\n"
     ]
    },
    {
     "ename": "NameError",
     "evalue": "name 'mean_absolute_error' is not defined",
     "output_type": "error",
     "traceback": [
      "\u001b[1;31m---------------------------------------------------------------------------\u001b[0m",
      "\u001b[1;31mNameError\u001b[0m                                 Traceback (most recent call last)",
      "Cell \u001b[1;32mIn[17], line 15\u001b[0m\n\u001b[0;32m     13\u001b[0m r2_MLP \u001b[38;5;241m=\u001b[39m r2_score(Y_validation, predictions)\n\u001b[0;32m     14\u001b[0m mse_MLP \u001b[38;5;241m=\u001b[39m mean_squared_error(Y_validation, predictions)\n\u001b[1;32m---> 15\u001b[0m mae_MLP \u001b[38;5;241m=\u001b[39m mean_absolute_error(Y_validation, predictions)\n\u001b[0;32m     16\u001b[0m rmse_MLP \u001b[38;5;241m=\u001b[39m np\u001b[38;5;241m.\u001b[39msqrt(mse_MLP)\n\u001b[0;32m     18\u001b[0m \u001b[38;5;66;03m# Calculate Adjusted R2 score\u001b[39;00m\n",
      "\u001b[1;31mNameError\u001b[0m: name 'mean_absolute_error' is not defined"
     ]
    }
   ],
   "source": [
    "# Predict the labels for the training data\n",
    "Y_pred = pipe.predict(X)\n",
    "\n",
    "# Calculate the mean squared error\n",
    "mse = mean_squared_error(Y, Y_pred)\n",
    "\n",
    "print('Mean Squared Error: {}'.format(mse))\n",
    "\n",
    "\n",
    "# Validate scores for chosen metrics (R2, MSE, AdjR2, RMSE and MAE)\n",
    "\n",
    "predictions = pipe.predict(X_validation)\n",
    "r2_MLP = r2_score(Y_validation, predictions)\n",
    "mse_MLP = mean_squared_error(Y_validation, predictions)\n",
    "mae_MLP = mean_absolute_error(Y_validation, predictions)\n",
    "rmse_MLP = np.sqrt(mse_MLP)\n",
    "\n",
    "# Calculate Adjusted R2 score\n",
    "R2 = r2_MLP  \n",
    "n = 1166\n",
    "p = 157 \n",
    "adjusted_R2 = 1 - (1 - R2) * (n - 1) / (n - p - 1)\n",
    "\n",
    "# Print score results \n",
    "print(\"R2 MLP = %f\" % r2_MLP)\n",
    "print(\"MSE MLP = %f\" % mse_MLP)\n",
    "print(\"MAE MLP = %f\" % mae_MLP)\n",
    "print(\"RMSE MLP = %f\" % rmse_MLP)\n",
    "print(\"Adjusted R2 MLP = %f\" % adjusted_R2)"
   ]
  },
  {
   "cell_type": "code",
   "execution_count": 18,
   "id": "21d0f831",
   "metadata": {},
   "outputs": [
    {
     "name": "stdout",
     "output_type": "stream",
     "text": [
      "R2 MLP = -0.037742\n",
      "MSE MLP = 5710242001962144890880.000000\n",
      "MAE MLP = 14411046303.292997\n",
      "RMSE MLP = 75566143225.403168\n",
      "Adjusted R2 MLP = -0.199374\n"
     ]
    }
   ],
   "source": [
    "## Sat Test\n",
    "\n",
    "\n",
    "from sklearn.metrics import mean_squared_error, r2_score, mean_absolute_error\n",
    "import numpy as np  # Assuming you are using numpy for np.sqrt\n",
    "\n",
    "# ... (your other code)\n",
    "\n",
    "# Validate scores for chosen metrics (R2, MSE, AdjR2, RMSE and MAE)\n",
    "predictions = pipe.predict(X_validation)\n",
    "r2_MLP = r2_score(Y_validation, predictions)\n",
    "mse_MLP = mean_squared_error(Y_validation, predictions)\n",
    "mae_MLP = mean_absolute_error(Y_validation, predictions)\n",
    "rmse_MLP = np.sqrt(mse_MLP)\n",
    "\n",
    "# Calculate Adjusted R2 score\n",
    "R2 = r2_MLP  \n",
    "n = 1166\n",
    "p = 157 \n",
    "adjusted_R2 = 1 - (1 - R2) * (n - 1) / (n - p - 1)\n",
    "\n",
    "# Print score results \n",
    "print(\"R2 MLP = %f\" % r2_MLP)\n",
    "print(\"MSE MLP = %f\" % mse_MLP)\n",
    "print(\"MAE MLP = %f\" % mae_MLP)\n",
    "print(\"RMSE MLP = %f\" % rmse_MLP)\n",
    "print(\"Adjusted R2 MLP = %f\" % adjusted_R2)\n"
   ]
  },
  {
   "cell_type": "code",
   "execution_count": 19,
   "id": "ef891c87",
   "metadata": {},
   "outputs": [
    {
     "data": {
      "text/plain": [
       "{'columntransformer': ColumnTransformer(transformers=[('Categorical',\n",
       "                                  OneHotEncoder(handle_unknown='ignore'),\n",
       "                                  ['Country_Name']),\n",
       "                                 ('Numerical', StandardScaler(),\n",
       "                                  ['Year',\n",
       "                                   'Access_to_electricity_(%_of_population)',\n",
       "                                   'Adjusted_net_enrollment_rate,_primary_(%_of_primary_school_age_children)',\n",
       "                                   'Adjusted_net_national_income_(constant_2015_US$)',\n",
       "                                   'Adjusted_net_national_income_per_capita...\n",
       "                                   'Foreign_direct_investment,_net_inflows_(%_of_GDP)',\n",
       "                                   'Foreign_direct_investment,_net_outflows_(%_of_GDP)',\n",
       "                                   'GDP_(constant_2015_US$)',\n",
       "                                   'GDP_(constant_LCU)', 'GDP_growth_(annual_%)',\n",
       "                                   'GDP_per_capita_(constant_LCU)',\n",
       "                                   'GDP_per_capita_growth_(annual_%)',\n",
       "                                   'GDP_per_capita,_PPP_(constant_2017_international_$)',\n",
       "                                   'GDP_per_person_employed_(constant_2017_PPP_$)',\n",
       "                                   'GDP,_PPP_(constant_2017_international_$)', ...])]),\n",
       " 'mlpregressor': MLPRegressor()}"
      ]
     },
     "execution_count": 19,
     "metadata": {},
     "output_type": "execute_result"
    }
   ],
   "source": [
    "pipe.named_steps"
   ]
  },
  {
   "cell_type": "code",
   "execution_count": 20,
   "id": "a5818608",
   "metadata": {},
   "outputs": [],
   "source": [
    "from sklearn.model_selection import RandomizedSearchCV"
   ]
  },
  {
   "cell_type": "code",
   "execution_count": 21,
   "id": "44411ddd",
   "metadata": {},
   "outputs": [],
   "source": [
    "param_grid = {\n",
    "    'mlpregressor__hidden_layer_sizes': [(100, 50), (50, 25), (20, 20)],\n",
    "    'mlpregressor__activation': ['relu', 'tanh', 'logistic'],\n",
    "    'mlpregressor__solver': ['adam', 'sgd', 'lbfgs'],\n",
    "    'mlpregressor__alpha': [0.00005, 0.0005, 0.005, 0.05],\n",
    "    'mlpregressor__max_iter': [20, 50, 100, 200, 250]\n",
    "}"
   ]
  },
  {
   "cell_type": "code",
   "execution_count": 22,
   "id": "32d5c80f",
   "metadata": {},
   "outputs": [],
   "source": [
    "pipe_cv = RandomizedSearchCV(pipe, param_grid, cv=10).fit(X, Y)"
   ]
  },
  {
   "cell_type": "code",
   "execution_count": 23,
   "id": "3f96d0d5",
   "metadata": {},
   "outputs": [
    {
     "name": "stdout",
     "output_type": "stream",
     "text": [
      "Cross Validation Score -4.23%\n"
     ]
    }
   ],
   "source": [
    "print('Cross Validation Score {}%'.format(round(pipe_cv.score(X, Y) * 100,2))) "
   ]
  },
  {
   "cell_type": "code",
   "execution_count": 24,
   "id": "c03fb751",
   "metadata": {},
   "outputs": [],
   "source": [
    "from sklearn.metrics import mean_absolute_error, mean_squared_error, r2_score\n",
    "from sklearn.metrics import mean_absolute_error, mean_squared_error\n"
   ]
  },
  {
   "cell_type": "code",
   "execution_count": 25,
   "id": "818d5d2d",
   "metadata": {},
   "outputs": [
    {
     "name": "stdout",
     "output_type": "stream",
     "text": [
      "Mean Absolute Error: 17106774190.056973\n",
      "Mean Squared Error: 7.212149350016189e+21\n",
      "R-squared: -0.0422922142312121\n"
     ]
    }
   ],
   "source": [
    "#Calculate Scores from pipe model\n",
    "\n",
    "# Calculate the Mean Absolute Error\n",
    "mae = mean_absolute_error(Y, Y_pred)\n",
    "\n",
    "# Calculate the Mean Squared Error\n",
    "mse = mean_squared_error(Y, Y_pred)\n",
    "\n",
    "# Calculate R-squared\n",
    "r2 = r2_score(Y, Y_pred)\n",
    "\n",
    "print('Mean Absolute Error: {}'.format(mae))\n",
    "print('Mean Squared Error: {}'.format(mse))\n",
    "print('R-squared: {}'.format(r2))\n",
    "\n",
    "\n"
   ]
  },
  {
   "cell_type": "code",
   "execution_count": 26,
   "id": "0ec72bb0",
   "metadata": {},
   "outputs": [
    {
     "name": "stdout",
     "output_type": "stream",
     "text": [
      "Mean Absolute Error: 17106774190.056973\n",
      "Mean Squared Error: 7.212149350016189e+21\n",
      "R-squared: -0.0422922142312121\n",
      "Adjusted R-squared: -0.14553814111260577\n",
      "Root Mean Squared Error: 84924374298.64401\n"
     ]
    }
   ],
   "source": [
    "# Validate scores for chosen metrics (R2, MSE, AdjR2, RMSE and MAE)\n",
    "\n",
    "\n",
    "from sklearn.metrics import mean_absolute_error, mean_squared_error, r2_score\n",
    "\n",
    "\n",
    "# Calculate Scores from pipe model\n",
    "Y_pred = pipe.predict(X)  # \n",
    "\n",
    "# Calculate the Mean Absolute Error\n",
    "mae = mean_absolute_error(Y, Y_pred)\n",
    "\n",
    "# Calculate the Mean Squared Error\n",
    "mse = mean_squared_error(Y, Y_pred)\n",
    "\n",
    "# Calculate R-squared\n",
    "r2 = r2_score(Y, Y_pred)\n",
    "\n",
    "# Calculate Adjusted R2 score\n",
    "n = len(Y)\n",
    "p = X.shape[1]  # Number of predictors\n",
    "adjusted_r2 = 1 - (1 - r2) * (n - 1) / (n - p - 1)\n",
    "\n",
    "# Calculate Root Mean Squared Error\n",
    "rmse = np.sqrt(mse)\n",
    "\n",
    "# Print score results\n",
    "print('Mean Absolute Error: {}'.format(mae))\n",
    "print('Mean Squared Error: {}'.format(mse))\n",
    "print('R-squared: {}'.format(r2))\n",
    "print('Adjusted R-squared: {}'.format(adjusted_r2))\n",
    "print('Root Mean Squared Error: {}'.format(rmse))\n"
   ]
  },
  {
   "cell_type": "code",
   "execution_count": 27,
   "id": "a804f8e6",
   "metadata": {},
   "outputs": [
    {
     "name": "stdout",
     "output_type": "stream",
     "text": [
      "Best hyperparameters: {'mlpregressor__solver': 'lbfgs', 'mlpregressor__max_iter': 200, 'mlpregressor__hidden_layer_sizes': (50, 25), 'mlpregressor__alpha': 0.05, 'mlpregressor__activation': 'tanh'}\n"
     ]
    }
   ],
   "source": [
    "# Print best hyper parameters\n",
    "\n",
    "best_params = pipe_cv.best_params_\n",
    "print(\"Best hyperparameters:\", best_params)"
   ]
  },
  {
   "cell_type": "code",
   "execution_count": null,
   "id": "5adf1623",
   "metadata": {},
   "outputs": [],
   "source": [
    "### PCA"
   ]
  },
  {
   "cell_type": "code",
   "execution_count": null,
   "id": "cdfab18e",
   "metadata": {},
   "outputs": [],
   "source": [
    "# Reduce dimensionality using PCA"
   ]
  },
  {
   "cell_type": "code",
   "execution_count": 28,
   "id": "2388e837",
   "metadata": {},
   "outputs": [],
   "source": [
    "from sklearn.decomposition import PCA\n",
    "from sklearn.cluster import KMeans"
   ]
  },
  {
   "cell_type": "code",
   "execution_count": 29,
   "id": "219854ec",
   "metadata": {},
   "outputs": [],
   "source": [
    "### MAKE PIPE 2\n",
    "\n",
    "pipe2 = make_pipeline(\n",
    "    ColumnTransformer([\n",
    "        ('Categorical', OneHotEncoder(handle_unknown='ignore'), categoricalCols),\n",
    "        ('Numerical', StandardScaler(), numericalCols)]),\n",
    "    PCA(n_components=0.90),\n",
    "    MLPRegressor())"
   ]
  },
  {
   "cell_type": "code",
   "execution_count": 30,
   "id": "420de78c",
   "metadata": {},
   "outputs": [
    {
     "data": {
      "text/html": [
       "<style>#sk-container-id-3 {color: black;}#sk-container-id-3 pre{padding: 0;}#sk-container-id-3 div.sk-toggleable {background-color: white;}#sk-container-id-3 label.sk-toggleable__label {cursor: pointer;display: block;width: 100%;margin-bottom: 0;padding: 0.3em;box-sizing: border-box;text-align: center;}#sk-container-id-3 label.sk-toggleable__label-arrow:before {content: \"▸\";float: left;margin-right: 0.25em;color: #696969;}#sk-container-id-3 label.sk-toggleable__label-arrow:hover:before {color: black;}#sk-container-id-3 div.sk-estimator:hover label.sk-toggleable__label-arrow:before {color: black;}#sk-container-id-3 div.sk-toggleable__content {max-height: 0;max-width: 0;overflow: hidden;text-align: left;background-color: #f0f8ff;}#sk-container-id-3 div.sk-toggleable__content pre {margin: 0.2em;color: black;border-radius: 0.25em;background-color: #f0f8ff;}#sk-container-id-3 input.sk-toggleable__control:checked~div.sk-toggleable__content {max-height: 200px;max-width: 100%;overflow: auto;}#sk-container-id-3 input.sk-toggleable__control:checked~label.sk-toggleable__label-arrow:before {content: \"▾\";}#sk-container-id-3 div.sk-estimator input.sk-toggleable__control:checked~label.sk-toggleable__label {background-color: #d4ebff;}#sk-container-id-3 div.sk-label input.sk-toggleable__control:checked~label.sk-toggleable__label {background-color: #d4ebff;}#sk-container-id-3 input.sk-hidden--visually {border: 0;clip: rect(1px 1px 1px 1px);clip: rect(1px, 1px, 1px, 1px);height: 1px;margin: -1px;overflow: hidden;padding: 0;position: absolute;width: 1px;}#sk-container-id-3 div.sk-estimator {font-family: monospace;background-color: #f0f8ff;border: 1px dotted black;border-radius: 0.25em;box-sizing: border-box;margin-bottom: 0.5em;}#sk-container-id-3 div.sk-estimator:hover {background-color: #d4ebff;}#sk-container-id-3 div.sk-parallel-item::after {content: \"\";width: 100%;border-bottom: 1px solid gray;flex-grow: 1;}#sk-container-id-3 div.sk-label:hover label.sk-toggleable__label {background-color: #d4ebff;}#sk-container-id-3 div.sk-serial::before {content: \"\";position: absolute;border-left: 1px solid gray;box-sizing: border-box;top: 0;bottom: 0;left: 50%;z-index: 0;}#sk-container-id-3 div.sk-serial {display: flex;flex-direction: column;align-items: center;background-color: white;padding-right: 0.2em;padding-left: 0.2em;position: relative;}#sk-container-id-3 div.sk-item {position: relative;z-index: 1;}#sk-container-id-3 div.sk-parallel {display: flex;align-items: stretch;justify-content: center;background-color: white;position: relative;}#sk-container-id-3 div.sk-item::before, #sk-container-id-3 div.sk-parallel-item::before {content: \"\";position: absolute;border-left: 1px solid gray;box-sizing: border-box;top: 0;bottom: 0;left: 50%;z-index: -1;}#sk-container-id-3 div.sk-parallel-item {display: flex;flex-direction: column;z-index: 1;position: relative;background-color: white;}#sk-container-id-3 div.sk-parallel-item:first-child::after {align-self: flex-end;width: 50%;}#sk-container-id-3 div.sk-parallel-item:last-child::after {align-self: flex-start;width: 50%;}#sk-container-id-3 div.sk-parallel-item:only-child::after {width: 0;}#sk-container-id-3 div.sk-dashed-wrapped {border: 1px dashed gray;margin: 0 0.4em 0.5em 0.4em;box-sizing: border-box;padding-bottom: 0.4em;background-color: white;}#sk-container-id-3 div.sk-label label {font-family: monospace;font-weight: bold;display: inline-block;line-height: 1.2em;}#sk-container-id-3 div.sk-label-container {text-align: center;}#sk-container-id-3 div.sk-container {/* jupyter's `normalize.less` sets `[hidden] { display: none; }` but bootstrap.min.css set `[hidden] { display: none !important; }` so we also need the `!important` here to be able to override the default hidden behavior on the sphinx rendered scikit-learn.org. See: https://github.com/scikit-learn/scikit-learn/issues/21755 */display: inline-block !important;position: relative;}#sk-container-id-3 div.sk-text-repr-fallback {display: none;}</style><div id=\"sk-container-id-3\" class=\"sk-top-container\"><div class=\"sk-text-repr-fallback\"><pre>Pipeline(steps=[(&#x27;columntransformer&#x27;,\n",
       "                 ColumnTransformer(transformers=[(&#x27;Categorical&#x27;,\n",
       "                                                  OneHotEncoder(handle_unknown=&#x27;ignore&#x27;),\n",
       "                                                  [&#x27;Country_Name&#x27;]),\n",
       "                                                 (&#x27;Numerical&#x27;, StandardScaler(),\n",
       "                                                  [&#x27;Year&#x27;,\n",
       "                                                   &#x27;Access_to_electricity_(%_of_population)&#x27;,\n",
       "                                                   &#x27;Adjusted_net_enrollment_rate,_primary_(%_of_primary_school_age_children)&#x27;,\n",
       "                                                   &#x27;Adjusted_net_national_income_(constant_2015_US$)&#x27;,\n",
       "                                                   &#x27;Ad...\n",
       "                                                   &#x27;GDP_(constant_2015_US$)&#x27;,\n",
       "                                                   &#x27;GDP_(constant_LCU)&#x27;,\n",
       "                                                   &#x27;GDP_growth_(annual_%)&#x27;,\n",
       "                                                   &#x27;GDP_per_capita_(constant_LCU)&#x27;,\n",
       "                                                   &#x27;GDP_per_capita_growth_(annual_%)&#x27;,\n",
       "                                                   &#x27;GDP_per_capita,_PPP_(constant_2017_international_$)&#x27;,\n",
       "                                                   &#x27;GDP_per_person_employed_(constant_2017_PPP_$)&#x27;,\n",
       "                                                   &#x27;GDP,_PPP_(constant_2017_international_$)&#x27;, ...])])),\n",
       "                (&#x27;pca&#x27;, PCA(n_components=0.9)),\n",
       "                (&#x27;mlpregressor&#x27;, MLPRegressor())])</pre><b>In a Jupyter environment, please rerun this cell to show the HTML representation or trust the notebook. <br />On GitHub, the HTML representation is unable to render, please try loading this page with nbviewer.org.</b></div><div class=\"sk-container\" hidden><div class=\"sk-item sk-dashed-wrapped\"><div class=\"sk-label-container\"><div class=\"sk-label sk-toggleable\"><input class=\"sk-toggleable__control sk-hidden--visually\" id=\"sk-estimator-id-15\" type=\"checkbox\" ><label for=\"sk-estimator-id-15\" class=\"sk-toggleable__label sk-toggleable__label-arrow\">Pipeline</label><div class=\"sk-toggleable__content\"><pre>Pipeline(steps=[(&#x27;columntransformer&#x27;,\n",
       "                 ColumnTransformer(transformers=[(&#x27;Categorical&#x27;,\n",
       "                                                  OneHotEncoder(handle_unknown=&#x27;ignore&#x27;),\n",
       "                                                  [&#x27;Country_Name&#x27;]),\n",
       "                                                 (&#x27;Numerical&#x27;, StandardScaler(),\n",
       "                                                  [&#x27;Year&#x27;,\n",
       "                                                   &#x27;Access_to_electricity_(%_of_population)&#x27;,\n",
       "                                                   &#x27;Adjusted_net_enrollment_rate,_primary_(%_of_primary_school_age_children)&#x27;,\n",
       "                                                   &#x27;Adjusted_net_national_income_(constant_2015_US$)&#x27;,\n",
       "                                                   &#x27;Ad...\n",
       "                                                   &#x27;GDP_(constant_2015_US$)&#x27;,\n",
       "                                                   &#x27;GDP_(constant_LCU)&#x27;,\n",
       "                                                   &#x27;GDP_growth_(annual_%)&#x27;,\n",
       "                                                   &#x27;GDP_per_capita_(constant_LCU)&#x27;,\n",
       "                                                   &#x27;GDP_per_capita_growth_(annual_%)&#x27;,\n",
       "                                                   &#x27;GDP_per_capita,_PPP_(constant_2017_international_$)&#x27;,\n",
       "                                                   &#x27;GDP_per_person_employed_(constant_2017_PPP_$)&#x27;,\n",
       "                                                   &#x27;GDP,_PPP_(constant_2017_international_$)&#x27;, ...])])),\n",
       "                (&#x27;pca&#x27;, PCA(n_components=0.9)),\n",
       "                (&#x27;mlpregressor&#x27;, MLPRegressor())])</pre></div></div></div><div class=\"sk-serial\"><div class=\"sk-item sk-dashed-wrapped\"><div class=\"sk-label-container\"><div class=\"sk-label sk-toggleable\"><input class=\"sk-toggleable__control sk-hidden--visually\" id=\"sk-estimator-id-16\" type=\"checkbox\" ><label for=\"sk-estimator-id-16\" class=\"sk-toggleable__label sk-toggleable__label-arrow\">columntransformer: ColumnTransformer</label><div class=\"sk-toggleable__content\"><pre>ColumnTransformer(transformers=[(&#x27;Categorical&#x27;,\n",
       "                                 OneHotEncoder(handle_unknown=&#x27;ignore&#x27;),\n",
       "                                 [&#x27;Country_Name&#x27;]),\n",
       "                                (&#x27;Numerical&#x27;, StandardScaler(),\n",
       "                                 [&#x27;Year&#x27;,\n",
       "                                  &#x27;Access_to_electricity_(%_of_population)&#x27;,\n",
       "                                  &#x27;Adjusted_net_enrollment_rate,_primary_(%_of_primary_school_age_children)&#x27;,\n",
       "                                  &#x27;Adjusted_net_national_income_(constant_2015_US$)&#x27;,\n",
       "                                  &#x27;Adjusted_net_national_income_per_capita...\n",
       "                                  &#x27;Foreign_direct_investment,_net_inflows_(%_of_GDP)&#x27;,\n",
       "                                  &#x27;Foreign_direct_investment,_net_outflows_(%_of_GDP)&#x27;,\n",
       "                                  &#x27;GDP_(constant_2015_US$)&#x27;,\n",
       "                                  &#x27;GDP_(constant_LCU)&#x27;, &#x27;GDP_growth_(annual_%)&#x27;,\n",
       "                                  &#x27;GDP_per_capita_(constant_LCU)&#x27;,\n",
       "                                  &#x27;GDP_per_capita_growth_(annual_%)&#x27;,\n",
       "                                  &#x27;GDP_per_capita,_PPP_(constant_2017_international_$)&#x27;,\n",
       "                                  &#x27;GDP_per_person_employed_(constant_2017_PPP_$)&#x27;,\n",
       "                                  &#x27;GDP,_PPP_(constant_2017_international_$)&#x27;, ...])])</pre></div></div></div><div class=\"sk-parallel\"><div class=\"sk-parallel-item\"><div class=\"sk-item\"><div class=\"sk-label-container\"><div class=\"sk-label sk-toggleable\"><input class=\"sk-toggleable__control sk-hidden--visually\" id=\"sk-estimator-id-17\" type=\"checkbox\" ><label for=\"sk-estimator-id-17\" class=\"sk-toggleable__label sk-toggleable__label-arrow\">Categorical</label><div class=\"sk-toggleable__content\"><pre>[&#x27;Country_Name&#x27;]</pre></div></div></div><div class=\"sk-serial\"><div class=\"sk-item\"><div class=\"sk-estimator sk-toggleable\"><input class=\"sk-toggleable__control sk-hidden--visually\" id=\"sk-estimator-id-18\" type=\"checkbox\" ><label for=\"sk-estimator-id-18\" class=\"sk-toggleable__label sk-toggleable__label-arrow\">OneHotEncoder</label><div class=\"sk-toggleable__content\"><pre>OneHotEncoder(handle_unknown=&#x27;ignore&#x27;)</pre></div></div></div></div></div></div><div class=\"sk-parallel-item\"><div class=\"sk-item\"><div class=\"sk-label-container\"><div class=\"sk-label sk-toggleable\"><input class=\"sk-toggleable__control sk-hidden--visually\" id=\"sk-estimator-id-19\" type=\"checkbox\" ><label for=\"sk-estimator-id-19\" class=\"sk-toggleable__label sk-toggleable__label-arrow\">Numerical</label><div class=\"sk-toggleable__content\"><pre>[&#x27;Year&#x27;, &#x27;Access_to_electricity_(%_of_population)&#x27;, &#x27;Adjusted_net_enrollment_rate,_primary_(%_of_primary_school_age_children)&#x27;, &#x27;Adjusted_net_national_income_(constant_2015_US$)&#x27;, &#x27;Adjusted_net_national_income_per_capita_(annual_%_growth)&#x27;, &#x27;Adjusted_net_national_income_per_capita_(constant_2015_US$)&#x27;, &#x27;Annualized_average_growth_rate_in_per_capita_real_survey_mean_consumption_or_income,_bottom_40%_of_population_(%)&#x27;, &#x27;Annualized_average_growth_rate_in_per_capita_real_survey_mean_consumption_or_income,_total_population_(%)&#x27;, &#x27;CPIA_social_protection_rating_(1=low_to_6=high)&#x27;, &#x27;CPIA_trade_rating_(1=low_to_6=high)&#x27;, &#x27;Central_government_debt,_total_(%_of_GDP)&#x27;, &#x27;Children_out_of_school,_primary&#x27;, &#x27;Current_account_balance_(%_of_GDP)&#x27;, &#x27;Current_health_expenditure_(%_of_GDP)&#x27;, &#x27;Current_health_expenditure_per_capita,_PPP_(current_international_$)&#x27;, &#x27;Employment_to_population_ratio,_15+,_total_(%)_(modeled_ILO_estimate)&#x27;, &#x27;Exports_of_goods_and_services_(%_of_GDP)&#x27;, &#x27;Exports_of_goods_and_services_(annual_%_growth)&#x27;, &#x27;Final_consumption_expenditure_(%_of_GDP)&#x27;, &#x27;Final_consumption_expenditure_(annual_%_growth)&#x27;, &#x27;Foreign_direct_investment,_net_inflows_(%_of_GDP)&#x27;, &#x27;Foreign_direct_investment,_net_outflows_(%_of_GDP)&#x27;, &#x27;GDP_(constant_2015_US$)&#x27;, &#x27;GDP_(constant_LCU)&#x27;, &#x27;GDP_growth_(annual_%)&#x27;, &#x27;GDP_per_capita_(constant_LCU)&#x27;, &#x27;GDP_per_capita_growth_(annual_%)&#x27;, &#x27;GDP_per_capita,_PPP_(constant_2017_international_$)&#x27;, &#x27;GDP_per_person_employed_(constant_2017_PPP_$)&#x27;, &#x27;GDP,_PPP_(constant_2017_international_$)&#x27;, &#x27;Gini_index&#x27;, &#x27;Government_expenditure_on_education,_total_(%_of_GDP)&#x27;, &#x27;Government_expenditure_on_education,_total_(%_of_government_expenditure)&#x27;, &#x27;Gross_domestic_income_(constant_LCU)&#x27;, &#x27;Gross_domestic_savings_(%_of_GDP)&#x27;, &#x27;Gross_national_expenditure_(constant_2015_US$)&#x27;, &#x27;Gross_savings_(%_of_GDP)&#x27;, &#x27;Hospital_beds_(per_1,000_people)&#x27;, &#x27;Human_capital_index_(HCI)_(scale_0-1)&#x27;, &#x27;Human_capital_index_(HCI),_lower_bound_(scale_0-1)&#x27;, &#x27;Human_capital_index_(HCI),_upper_bound_(scale_0-1)&#x27;, &#x27;Income_share_held_by_highest_10%&#x27;, &#x27;Income_share_held_by_highest_20%&#x27;, &#x27;Income_share_held_by_lowest_10%&#x27;, &#x27;Income_share_held_by_lowest_20%&#x27;, &#x27;Increase_in_poverty_gap_at_$1.90_($_2011_PPP)_poverty_line_due_to_out-of-pocket_health_care_expenditure_(%_of_poverty_line)&#x27;, &#x27;Increase_in_poverty_gap_at_$1.90_($_2011_PPP)_poverty_line_due_to_out-of-pocket_health_care_expenditure_(USD)&#x27;, &#x27;Increase_in_poverty_gap_at_$3.20_($_2011_PPP)_poverty_line_due_to_out-of-pocket_health_care_expenditure_(%_of_poverty_line)&#x27;, &#x27;Increase_in_poverty_gap_at_$3.20_($_2011_PPP)_poverty_line_due_to_out-of-pocket_health_care_expenditure_(USD)&#x27;, &#x27;Inflation,_GDP_deflator_(annual_%)&#x27;, &#x27;Inflation,_GDP_deflator:_linked_series_(annual_%)&#x27;, &#x27;Inflation,_consumer_prices_(annual_%)&#x27;, &#x27;Labor_force,_total&#x27;, &#x27;Life_expectancy_at_birth,_total_(years)&#x27;, &#x27;Literacy_rate,_adult_total_(%_of_people_ages_15_and_above)&#x27;, &#x27;Literacy_rate,_youth_total_(%_of_people_ages_15-24)&#x27;, &#x27;Mortality_rate,_infant_(per_1,000_live_births)&#x27;, &#x27;Mortality_rate,_under-5_(per_1,000_live_births)&#x27;, &#x27;Net_acquisition_of_financial_assets_(current_LCU)&#x27;, &#x27;Net_barter_terms_of_trade_index_(2000_=_100)&#x27;, &#x27;Net_financial_flows,_bilateral_(NFL,_current_US$)&#x27;, &#x27;Net_foreign_assets_(current_LCU)&#x27;, &#x27;Net_investment_in_nonfinancial_assets_(current_LCU)&#x27;, &#x27;Net_lending_(+)_/_net_borrowing_(-)_(current_LCU)&#x27;, &#x27;Net_trade_in_goods_(BoP,_current_US$)&#x27;, &#x27;Number_of_under-five_deaths&#x27;, &#x27;Ores_and_metals_exports_(%_of_merchandise_exports)&#x27;, &#x27;Population,_total&#x27;, &#x27;Poverty_gap_at_$2.15_a_day_(2017_PPP)_(%)&#x27;, &#x27;Poverty_gap_at_$3.65_a_day_(2017_PPP)_(%)&#x27;, &#x27;Poverty_gap_at_$6.85_a_day_(2017_PPP)_(%)&#x27;, &#x27;Poverty_headcount_ratio_at_$2.15_a_day_(2017_PPP)_(%_of_population)&#x27;, &#x27;Poverty_headcount_ratio_at_$3.65_a_day_(2017_PPP)_(%_of_population)&#x27;, &#x27;Poverty_headcount_ratio_at_$6.85_a_day_(2017_PPP)_(%_of_population)&#x27;, &#x27;Poverty_headcount_ratio_at_national_poverty_lines_(%_of_population)&#x27;, &#x27;Present_value_of_external_debt_(current_US$)&#x27;, &#x27;Price_level_ratio_of_PPP_conversion_factor_(GDP)_to_market_exchange_rate&#x27;, &#x27;Primary_completion_rate,_total_(%_of_relevant_age_group)&#x27;, &#x27;Public_private_partnerships_investment_in_ICT_(current_US$)&#x27;, &#x27;Public_private_partnerships_investment_in_energy_(current_US$)&#x27;, &#x27;Public_private_partnerships_investment_in_transport_(current_US$)&#x27;, &#x27;Public_private_partnerships_investment_in_water_and_sanitation_(current_US$)&#x27;, &#x27;Rail_lines_(total_route-km)&#x27;, &#x27;Railways,_goods_transported_(million_ton-km)&#x27;, &#x27;Railways,_passengers_carried_(million_passenger-km)&#x27;, &#x27;Real_interest_rate_(%)&#x27;, &#x27;Renewable_electricity_output_(%_of_total_electricity_output)&#x27;, &#x27;Renewable_energy_consumption_(%_of_total_final_energy_consumption)&#x27;, &#x27;Renewable_internal_freshwater_resources_per_capita_(cubic_meters)&#x27;, &#x27;Rural_land_area_(sq._km)&#x27;, &#x27;Rural_population&#x27;, &#x27;Taxes_on_exports_(%_of_tax_revenue)&#x27;, &#x27;Taxes_on_exports_(current_LCU)&#x27;, &#x27;Taxes_on_international_trade_(%_of_revenue)&#x27;, &#x27;Taxes_on_international_trade_(current_LCU)&#x27;, &#x27;Trade_(%_of_GDP)&#x27;, &#x27;Trade_in_services_(%_of_GDP)&#x27;, &#x27;Unemployment,_total_(%_of_total_labor_force)_(modeled_ILO_estimate)&#x27;, &#x27;Unemployment,_youth_total_(%_of_total_labor_force_ages_15-24)_(modeled_ILO_estimate)&#x27;, &#x27;Urban_population&#x27;, &#x27;Urban_population_(%_of_total_population)&#x27;, &#x27;Urban_population_growth_(annual_%)&#x27;, &#x27;Vulnerable_employment,_total_(%_of_total_employment)_(modeled_ILO_estimate)&#x27;, &#x27;Wage_and_salaried_workers,_total_(%_of_total_employment)_(modeled_ILO_estimate)&#x27;]</pre></div></div></div><div class=\"sk-serial\"><div class=\"sk-item\"><div class=\"sk-estimator sk-toggleable\"><input class=\"sk-toggleable__control sk-hidden--visually\" id=\"sk-estimator-id-20\" type=\"checkbox\" ><label for=\"sk-estimator-id-20\" class=\"sk-toggleable__label sk-toggleable__label-arrow\">StandardScaler</label><div class=\"sk-toggleable__content\"><pre>StandardScaler()</pre></div></div></div></div></div></div></div></div><div class=\"sk-item\"><div class=\"sk-estimator sk-toggleable\"><input class=\"sk-toggleable__control sk-hidden--visually\" id=\"sk-estimator-id-21\" type=\"checkbox\" ><label for=\"sk-estimator-id-21\" class=\"sk-toggleable__label sk-toggleable__label-arrow\">PCA</label><div class=\"sk-toggleable__content\"><pre>PCA(n_components=0.9)</pre></div></div></div><div class=\"sk-item\"><div class=\"sk-estimator sk-toggleable\"><input class=\"sk-toggleable__control sk-hidden--visually\" id=\"sk-estimator-id-22\" type=\"checkbox\" ><label for=\"sk-estimator-id-22\" class=\"sk-toggleable__label sk-toggleable__label-arrow\">MLPRegressor</label><div class=\"sk-toggleable__content\"><pre>MLPRegressor()</pre></div></div></div></div></div></div></div>"
      ],
      "text/plain": [
       "Pipeline(steps=[('columntransformer',\n",
       "                 ColumnTransformer(transformers=[('Categorical',\n",
       "                                                  OneHotEncoder(handle_unknown='ignore'),\n",
       "                                                  ['Country_Name']),\n",
       "                                                 ('Numerical', StandardScaler(),\n",
       "                                                  ['Year',\n",
       "                                                   'Access_to_electricity_(%_of_population)',\n",
       "                                                   'Adjusted_net_enrollment_rate,_primary_(%_of_primary_school_age_children)',\n",
       "                                                   'Adjusted_net_national_income_(constant_2015_US$)',\n",
       "                                                   'Ad...\n",
       "                                                   'GDP_(constant_2015_US$)',\n",
       "                                                   'GDP_(constant_LCU)',\n",
       "                                                   'GDP_growth_(annual_%)',\n",
       "                                                   'GDP_per_capita_(constant_LCU)',\n",
       "                                                   'GDP_per_capita_growth_(annual_%)',\n",
       "                                                   'GDP_per_capita,_PPP_(constant_2017_international_$)',\n",
       "                                                   'GDP_per_person_employed_(constant_2017_PPP_$)',\n",
       "                                                   'GDP,_PPP_(constant_2017_international_$)', ...])])),\n",
       "                ('pca', PCA(n_components=0.9)),\n",
       "                ('mlpregressor', MLPRegressor())])"
      ]
     },
     "execution_count": 30,
     "metadata": {},
     "output_type": "execute_result"
    }
   ],
   "source": [
    "pipe2"
   ]
  },
  {
   "cell_type": "code",
   "execution_count": 31,
   "id": "57829466",
   "metadata": {},
   "outputs": [
    {
     "data": {
      "text/html": [
       "<style>#sk-container-id-4 {color: black;}#sk-container-id-4 pre{padding: 0;}#sk-container-id-4 div.sk-toggleable {background-color: white;}#sk-container-id-4 label.sk-toggleable__label {cursor: pointer;display: block;width: 100%;margin-bottom: 0;padding: 0.3em;box-sizing: border-box;text-align: center;}#sk-container-id-4 label.sk-toggleable__label-arrow:before {content: \"▸\";float: left;margin-right: 0.25em;color: #696969;}#sk-container-id-4 label.sk-toggleable__label-arrow:hover:before {color: black;}#sk-container-id-4 div.sk-estimator:hover label.sk-toggleable__label-arrow:before {color: black;}#sk-container-id-4 div.sk-toggleable__content {max-height: 0;max-width: 0;overflow: hidden;text-align: left;background-color: #f0f8ff;}#sk-container-id-4 div.sk-toggleable__content pre {margin: 0.2em;color: black;border-radius: 0.25em;background-color: #f0f8ff;}#sk-container-id-4 input.sk-toggleable__control:checked~div.sk-toggleable__content {max-height: 200px;max-width: 100%;overflow: auto;}#sk-container-id-4 input.sk-toggleable__control:checked~label.sk-toggleable__label-arrow:before {content: \"▾\";}#sk-container-id-4 div.sk-estimator input.sk-toggleable__control:checked~label.sk-toggleable__label {background-color: #d4ebff;}#sk-container-id-4 div.sk-label input.sk-toggleable__control:checked~label.sk-toggleable__label {background-color: #d4ebff;}#sk-container-id-4 input.sk-hidden--visually {border: 0;clip: rect(1px 1px 1px 1px);clip: rect(1px, 1px, 1px, 1px);height: 1px;margin: -1px;overflow: hidden;padding: 0;position: absolute;width: 1px;}#sk-container-id-4 div.sk-estimator {font-family: monospace;background-color: #f0f8ff;border: 1px dotted black;border-radius: 0.25em;box-sizing: border-box;margin-bottom: 0.5em;}#sk-container-id-4 div.sk-estimator:hover {background-color: #d4ebff;}#sk-container-id-4 div.sk-parallel-item::after {content: \"\";width: 100%;border-bottom: 1px solid gray;flex-grow: 1;}#sk-container-id-4 div.sk-label:hover label.sk-toggleable__label {background-color: #d4ebff;}#sk-container-id-4 div.sk-serial::before {content: \"\";position: absolute;border-left: 1px solid gray;box-sizing: border-box;top: 0;bottom: 0;left: 50%;z-index: 0;}#sk-container-id-4 div.sk-serial {display: flex;flex-direction: column;align-items: center;background-color: white;padding-right: 0.2em;padding-left: 0.2em;position: relative;}#sk-container-id-4 div.sk-item {position: relative;z-index: 1;}#sk-container-id-4 div.sk-parallel {display: flex;align-items: stretch;justify-content: center;background-color: white;position: relative;}#sk-container-id-4 div.sk-item::before, #sk-container-id-4 div.sk-parallel-item::before {content: \"\";position: absolute;border-left: 1px solid gray;box-sizing: border-box;top: 0;bottom: 0;left: 50%;z-index: -1;}#sk-container-id-4 div.sk-parallel-item {display: flex;flex-direction: column;z-index: 1;position: relative;background-color: white;}#sk-container-id-4 div.sk-parallel-item:first-child::after {align-self: flex-end;width: 50%;}#sk-container-id-4 div.sk-parallel-item:last-child::after {align-self: flex-start;width: 50%;}#sk-container-id-4 div.sk-parallel-item:only-child::after {width: 0;}#sk-container-id-4 div.sk-dashed-wrapped {border: 1px dashed gray;margin: 0 0.4em 0.5em 0.4em;box-sizing: border-box;padding-bottom: 0.4em;background-color: white;}#sk-container-id-4 div.sk-label label {font-family: monospace;font-weight: bold;display: inline-block;line-height: 1.2em;}#sk-container-id-4 div.sk-label-container {text-align: center;}#sk-container-id-4 div.sk-container {/* jupyter's `normalize.less` sets `[hidden] { display: none; }` but bootstrap.min.css set `[hidden] { display: none !important; }` so we also need the `!important` here to be able to override the default hidden behavior on the sphinx rendered scikit-learn.org. See: https://github.com/scikit-learn/scikit-learn/issues/21755 */display: inline-block !important;position: relative;}#sk-container-id-4 div.sk-text-repr-fallback {display: none;}</style><div id=\"sk-container-id-4\" class=\"sk-top-container\"><div class=\"sk-text-repr-fallback\"><pre>Pipeline(steps=[(&#x27;columntransformer&#x27;,\n",
       "                 ColumnTransformer(transformers=[(&#x27;Categorical&#x27;,\n",
       "                                                  OneHotEncoder(handle_unknown=&#x27;ignore&#x27;),\n",
       "                                                  [&#x27;Country_Name&#x27;]),\n",
       "                                                 (&#x27;Numerical&#x27;, StandardScaler(),\n",
       "                                                  [&#x27;Year&#x27;,\n",
       "                                                   &#x27;Access_to_electricity_(%_of_population)&#x27;,\n",
       "                                                   &#x27;Adjusted_net_enrollment_rate,_primary_(%_of_primary_school_age_children)&#x27;,\n",
       "                                                   &#x27;Adjusted_net_national_income_(constant_2015_US$)&#x27;,\n",
       "                                                   &#x27;Ad...\n",
       "                                                   &#x27;GDP_(constant_2015_US$)&#x27;,\n",
       "                                                   &#x27;GDP_(constant_LCU)&#x27;,\n",
       "                                                   &#x27;GDP_growth_(annual_%)&#x27;,\n",
       "                                                   &#x27;GDP_per_capita_(constant_LCU)&#x27;,\n",
       "                                                   &#x27;GDP_per_capita_growth_(annual_%)&#x27;,\n",
       "                                                   &#x27;GDP_per_capita,_PPP_(constant_2017_international_$)&#x27;,\n",
       "                                                   &#x27;GDP_per_person_employed_(constant_2017_PPP_$)&#x27;,\n",
       "                                                   &#x27;GDP,_PPP_(constant_2017_international_$)&#x27;, ...])])),\n",
       "                (&#x27;pca&#x27;, PCA(n_components=0.9)),\n",
       "                (&#x27;mlpregressor&#x27;, MLPRegressor())])</pre><b>In a Jupyter environment, please rerun this cell to show the HTML representation or trust the notebook. <br />On GitHub, the HTML representation is unable to render, please try loading this page with nbviewer.org.</b></div><div class=\"sk-container\" hidden><div class=\"sk-item sk-dashed-wrapped\"><div class=\"sk-label-container\"><div class=\"sk-label sk-toggleable\"><input class=\"sk-toggleable__control sk-hidden--visually\" id=\"sk-estimator-id-23\" type=\"checkbox\" ><label for=\"sk-estimator-id-23\" class=\"sk-toggleable__label sk-toggleable__label-arrow\">Pipeline</label><div class=\"sk-toggleable__content\"><pre>Pipeline(steps=[(&#x27;columntransformer&#x27;,\n",
       "                 ColumnTransformer(transformers=[(&#x27;Categorical&#x27;,\n",
       "                                                  OneHotEncoder(handle_unknown=&#x27;ignore&#x27;),\n",
       "                                                  [&#x27;Country_Name&#x27;]),\n",
       "                                                 (&#x27;Numerical&#x27;, StandardScaler(),\n",
       "                                                  [&#x27;Year&#x27;,\n",
       "                                                   &#x27;Access_to_electricity_(%_of_population)&#x27;,\n",
       "                                                   &#x27;Adjusted_net_enrollment_rate,_primary_(%_of_primary_school_age_children)&#x27;,\n",
       "                                                   &#x27;Adjusted_net_national_income_(constant_2015_US$)&#x27;,\n",
       "                                                   &#x27;Ad...\n",
       "                                                   &#x27;GDP_(constant_2015_US$)&#x27;,\n",
       "                                                   &#x27;GDP_(constant_LCU)&#x27;,\n",
       "                                                   &#x27;GDP_growth_(annual_%)&#x27;,\n",
       "                                                   &#x27;GDP_per_capita_(constant_LCU)&#x27;,\n",
       "                                                   &#x27;GDP_per_capita_growth_(annual_%)&#x27;,\n",
       "                                                   &#x27;GDP_per_capita,_PPP_(constant_2017_international_$)&#x27;,\n",
       "                                                   &#x27;GDP_per_person_employed_(constant_2017_PPP_$)&#x27;,\n",
       "                                                   &#x27;GDP,_PPP_(constant_2017_international_$)&#x27;, ...])])),\n",
       "                (&#x27;pca&#x27;, PCA(n_components=0.9)),\n",
       "                (&#x27;mlpregressor&#x27;, MLPRegressor())])</pre></div></div></div><div class=\"sk-serial\"><div class=\"sk-item sk-dashed-wrapped\"><div class=\"sk-label-container\"><div class=\"sk-label sk-toggleable\"><input class=\"sk-toggleable__control sk-hidden--visually\" id=\"sk-estimator-id-24\" type=\"checkbox\" ><label for=\"sk-estimator-id-24\" class=\"sk-toggleable__label sk-toggleable__label-arrow\">columntransformer: ColumnTransformer</label><div class=\"sk-toggleable__content\"><pre>ColumnTransformer(transformers=[(&#x27;Categorical&#x27;,\n",
       "                                 OneHotEncoder(handle_unknown=&#x27;ignore&#x27;),\n",
       "                                 [&#x27;Country_Name&#x27;]),\n",
       "                                (&#x27;Numerical&#x27;, StandardScaler(),\n",
       "                                 [&#x27;Year&#x27;,\n",
       "                                  &#x27;Access_to_electricity_(%_of_population)&#x27;,\n",
       "                                  &#x27;Adjusted_net_enrollment_rate,_primary_(%_of_primary_school_age_children)&#x27;,\n",
       "                                  &#x27;Adjusted_net_national_income_(constant_2015_US$)&#x27;,\n",
       "                                  &#x27;Adjusted_net_national_income_per_capita...\n",
       "                                  &#x27;Foreign_direct_investment,_net_inflows_(%_of_GDP)&#x27;,\n",
       "                                  &#x27;Foreign_direct_investment,_net_outflows_(%_of_GDP)&#x27;,\n",
       "                                  &#x27;GDP_(constant_2015_US$)&#x27;,\n",
       "                                  &#x27;GDP_(constant_LCU)&#x27;, &#x27;GDP_growth_(annual_%)&#x27;,\n",
       "                                  &#x27;GDP_per_capita_(constant_LCU)&#x27;,\n",
       "                                  &#x27;GDP_per_capita_growth_(annual_%)&#x27;,\n",
       "                                  &#x27;GDP_per_capita,_PPP_(constant_2017_international_$)&#x27;,\n",
       "                                  &#x27;GDP_per_person_employed_(constant_2017_PPP_$)&#x27;,\n",
       "                                  &#x27;GDP,_PPP_(constant_2017_international_$)&#x27;, ...])])</pre></div></div></div><div class=\"sk-parallel\"><div class=\"sk-parallel-item\"><div class=\"sk-item\"><div class=\"sk-label-container\"><div class=\"sk-label sk-toggleable\"><input class=\"sk-toggleable__control sk-hidden--visually\" id=\"sk-estimator-id-25\" type=\"checkbox\" ><label for=\"sk-estimator-id-25\" class=\"sk-toggleable__label sk-toggleable__label-arrow\">Categorical</label><div class=\"sk-toggleable__content\"><pre>[&#x27;Country_Name&#x27;]</pre></div></div></div><div class=\"sk-serial\"><div class=\"sk-item\"><div class=\"sk-estimator sk-toggleable\"><input class=\"sk-toggleable__control sk-hidden--visually\" id=\"sk-estimator-id-26\" type=\"checkbox\" ><label for=\"sk-estimator-id-26\" class=\"sk-toggleable__label sk-toggleable__label-arrow\">OneHotEncoder</label><div class=\"sk-toggleable__content\"><pre>OneHotEncoder(handle_unknown=&#x27;ignore&#x27;)</pre></div></div></div></div></div></div><div class=\"sk-parallel-item\"><div class=\"sk-item\"><div class=\"sk-label-container\"><div class=\"sk-label sk-toggleable\"><input class=\"sk-toggleable__control sk-hidden--visually\" id=\"sk-estimator-id-27\" type=\"checkbox\" ><label for=\"sk-estimator-id-27\" class=\"sk-toggleable__label sk-toggleable__label-arrow\">Numerical</label><div class=\"sk-toggleable__content\"><pre>[&#x27;Year&#x27;, &#x27;Access_to_electricity_(%_of_population)&#x27;, &#x27;Adjusted_net_enrollment_rate,_primary_(%_of_primary_school_age_children)&#x27;, &#x27;Adjusted_net_national_income_(constant_2015_US$)&#x27;, &#x27;Adjusted_net_national_income_per_capita_(annual_%_growth)&#x27;, &#x27;Adjusted_net_national_income_per_capita_(constant_2015_US$)&#x27;, &#x27;Annualized_average_growth_rate_in_per_capita_real_survey_mean_consumption_or_income,_bottom_40%_of_population_(%)&#x27;, &#x27;Annualized_average_growth_rate_in_per_capita_real_survey_mean_consumption_or_income,_total_population_(%)&#x27;, &#x27;CPIA_social_protection_rating_(1=low_to_6=high)&#x27;, &#x27;CPIA_trade_rating_(1=low_to_6=high)&#x27;, &#x27;Central_government_debt,_total_(%_of_GDP)&#x27;, &#x27;Children_out_of_school,_primary&#x27;, &#x27;Current_account_balance_(%_of_GDP)&#x27;, &#x27;Current_health_expenditure_(%_of_GDP)&#x27;, &#x27;Current_health_expenditure_per_capita,_PPP_(current_international_$)&#x27;, &#x27;Employment_to_population_ratio,_15+,_total_(%)_(modeled_ILO_estimate)&#x27;, &#x27;Exports_of_goods_and_services_(%_of_GDP)&#x27;, &#x27;Exports_of_goods_and_services_(annual_%_growth)&#x27;, &#x27;Final_consumption_expenditure_(%_of_GDP)&#x27;, &#x27;Final_consumption_expenditure_(annual_%_growth)&#x27;, &#x27;Foreign_direct_investment,_net_inflows_(%_of_GDP)&#x27;, &#x27;Foreign_direct_investment,_net_outflows_(%_of_GDP)&#x27;, &#x27;GDP_(constant_2015_US$)&#x27;, &#x27;GDP_(constant_LCU)&#x27;, &#x27;GDP_growth_(annual_%)&#x27;, &#x27;GDP_per_capita_(constant_LCU)&#x27;, &#x27;GDP_per_capita_growth_(annual_%)&#x27;, &#x27;GDP_per_capita,_PPP_(constant_2017_international_$)&#x27;, &#x27;GDP_per_person_employed_(constant_2017_PPP_$)&#x27;, &#x27;GDP,_PPP_(constant_2017_international_$)&#x27;, &#x27;Gini_index&#x27;, &#x27;Government_expenditure_on_education,_total_(%_of_GDP)&#x27;, &#x27;Government_expenditure_on_education,_total_(%_of_government_expenditure)&#x27;, &#x27;Gross_domestic_income_(constant_LCU)&#x27;, &#x27;Gross_domestic_savings_(%_of_GDP)&#x27;, &#x27;Gross_national_expenditure_(constant_2015_US$)&#x27;, &#x27;Gross_savings_(%_of_GDP)&#x27;, &#x27;Hospital_beds_(per_1,000_people)&#x27;, &#x27;Human_capital_index_(HCI)_(scale_0-1)&#x27;, &#x27;Human_capital_index_(HCI),_lower_bound_(scale_0-1)&#x27;, &#x27;Human_capital_index_(HCI),_upper_bound_(scale_0-1)&#x27;, &#x27;Income_share_held_by_highest_10%&#x27;, &#x27;Income_share_held_by_highest_20%&#x27;, &#x27;Income_share_held_by_lowest_10%&#x27;, &#x27;Income_share_held_by_lowest_20%&#x27;, &#x27;Increase_in_poverty_gap_at_$1.90_($_2011_PPP)_poverty_line_due_to_out-of-pocket_health_care_expenditure_(%_of_poverty_line)&#x27;, &#x27;Increase_in_poverty_gap_at_$1.90_($_2011_PPP)_poverty_line_due_to_out-of-pocket_health_care_expenditure_(USD)&#x27;, &#x27;Increase_in_poverty_gap_at_$3.20_($_2011_PPP)_poverty_line_due_to_out-of-pocket_health_care_expenditure_(%_of_poverty_line)&#x27;, &#x27;Increase_in_poverty_gap_at_$3.20_($_2011_PPP)_poverty_line_due_to_out-of-pocket_health_care_expenditure_(USD)&#x27;, &#x27;Inflation,_GDP_deflator_(annual_%)&#x27;, &#x27;Inflation,_GDP_deflator:_linked_series_(annual_%)&#x27;, &#x27;Inflation,_consumer_prices_(annual_%)&#x27;, &#x27;Labor_force,_total&#x27;, &#x27;Life_expectancy_at_birth,_total_(years)&#x27;, &#x27;Literacy_rate,_adult_total_(%_of_people_ages_15_and_above)&#x27;, &#x27;Literacy_rate,_youth_total_(%_of_people_ages_15-24)&#x27;, &#x27;Mortality_rate,_infant_(per_1,000_live_births)&#x27;, &#x27;Mortality_rate,_under-5_(per_1,000_live_births)&#x27;, &#x27;Net_acquisition_of_financial_assets_(current_LCU)&#x27;, &#x27;Net_barter_terms_of_trade_index_(2000_=_100)&#x27;, &#x27;Net_financial_flows,_bilateral_(NFL,_current_US$)&#x27;, &#x27;Net_foreign_assets_(current_LCU)&#x27;, &#x27;Net_investment_in_nonfinancial_assets_(current_LCU)&#x27;, &#x27;Net_lending_(+)_/_net_borrowing_(-)_(current_LCU)&#x27;, &#x27;Net_trade_in_goods_(BoP,_current_US$)&#x27;, &#x27;Number_of_under-five_deaths&#x27;, &#x27;Ores_and_metals_exports_(%_of_merchandise_exports)&#x27;, &#x27;Population,_total&#x27;, &#x27;Poverty_gap_at_$2.15_a_day_(2017_PPP)_(%)&#x27;, &#x27;Poverty_gap_at_$3.65_a_day_(2017_PPP)_(%)&#x27;, &#x27;Poverty_gap_at_$6.85_a_day_(2017_PPP)_(%)&#x27;, &#x27;Poverty_headcount_ratio_at_$2.15_a_day_(2017_PPP)_(%_of_population)&#x27;, &#x27;Poverty_headcount_ratio_at_$3.65_a_day_(2017_PPP)_(%_of_population)&#x27;, &#x27;Poverty_headcount_ratio_at_$6.85_a_day_(2017_PPP)_(%_of_population)&#x27;, &#x27;Poverty_headcount_ratio_at_national_poverty_lines_(%_of_population)&#x27;, &#x27;Present_value_of_external_debt_(current_US$)&#x27;, &#x27;Price_level_ratio_of_PPP_conversion_factor_(GDP)_to_market_exchange_rate&#x27;, &#x27;Primary_completion_rate,_total_(%_of_relevant_age_group)&#x27;, &#x27;Public_private_partnerships_investment_in_ICT_(current_US$)&#x27;, &#x27;Public_private_partnerships_investment_in_energy_(current_US$)&#x27;, &#x27;Public_private_partnerships_investment_in_transport_(current_US$)&#x27;, &#x27;Public_private_partnerships_investment_in_water_and_sanitation_(current_US$)&#x27;, &#x27;Rail_lines_(total_route-km)&#x27;, &#x27;Railways,_goods_transported_(million_ton-km)&#x27;, &#x27;Railways,_passengers_carried_(million_passenger-km)&#x27;, &#x27;Real_interest_rate_(%)&#x27;, &#x27;Renewable_electricity_output_(%_of_total_electricity_output)&#x27;, &#x27;Renewable_energy_consumption_(%_of_total_final_energy_consumption)&#x27;, &#x27;Renewable_internal_freshwater_resources_per_capita_(cubic_meters)&#x27;, &#x27;Rural_land_area_(sq._km)&#x27;, &#x27;Rural_population&#x27;, &#x27;Taxes_on_exports_(%_of_tax_revenue)&#x27;, &#x27;Taxes_on_exports_(current_LCU)&#x27;, &#x27;Taxes_on_international_trade_(%_of_revenue)&#x27;, &#x27;Taxes_on_international_trade_(current_LCU)&#x27;, &#x27;Trade_(%_of_GDP)&#x27;, &#x27;Trade_in_services_(%_of_GDP)&#x27;, &#x27;Unemployment,_total_(%_of_total_labor_force)_(modeled_ILO_estimate)&#x27;, &#x27;Unemployment,_youth_total_(%_of_total_labor_force_ages_15-24)_(modeled_ILO_estimate)&#x27;, &#x27;Urban_population&#x27;, &#x27;Urban_population_(%_of_total_population)&#x27;, &#x27;Urban_population_growth_(annual_%)&#x27;, &#x27;Vulnerable_employment,_total_(%_of_total_employment)_(modeled_ILO_estimate)&#x27;, &#x27;Wage_and_salaried_workers,_total_(%_of_total_employment)_(modeled_ILO_estimate)&#x27;]</pre></div></div></div><div class=\"sk-serial\"><div class=\"sk-item\"><div class=\"sk-estimator sk-toggleable\"><input class=\"sk-toggleable__control sk-hidden--visually\" id=\"sk-estimator-id-28\" type=\"checkbox\" ><label for=\"sk-estimator-id-28\" class=\"sk-toggleable__label sk-toggleable__label-arrow\">StandardScaler</label><div class=\"sk-toggleable__content\"><pre>StandardScaler()</pre></div></div></div></div></div></div></div></div><div class=\"sk-item\"><div class=\"sk-estimator sk-toggleable\"><input class=\"sk-toggleable__control sk-hidden--visually\" id=\"sk-estimator-id-29\" type=\"checkbox\" ><label for=\"sk-estimator-id-29\" class=\"sk-toggleable__label sk-toggleable__label-arrow\">PCA</label><div class=\"sk-toggleable__content\"><pre>PCA(n_components=0.9)</pre></div></div></div><div class=\"sk-item\"><div class=\"sk-estimator sk-toggleable\"><input class=\"sk-toggleable__control sk-hidden--visually\" id=\"sk-estimator-id-30\" type=\"checkbox\" ><label for=\"sk-estimator-id-30\" class=\"sk-toggleable__label sk-toggleable__label-arrow\">MLPRegressor</label><div class=\"sk-toggleable__content\"><pre>MLPRegressor()</pre></div></div></div></div></div></div></div>"
      ],
      "text/plain": [
       "Pipeline(steps=[('columntransformer',\n",
       "                 ColumnTransformer(transformers=[('Categorical',\n",
       "                                                  OneHotEncoder(handle_unknown='ignore'),\n",
       "                                                  ['Country_Name']),\n",
       "                                                 ('Numerical', StandardScaler(),\n",
       "                                                  ['Year',\n",
       "                                                   'Access_to_electricity_(%_of_population)',\n",
       "                                                   'Adjusted_net_enrollment_rate,_primary_(%_of_primary_school_age_children)',\n",
       "                                                   'Adjusted_net_national_income_(constant_2015_US$)',\n",
       "                                                   'Ad...\n",
       "                                                   'GDP_(constant_2015_US$)',\n",
       "                                                   'GDP_(constant_LCU)',\n",
       "                                                   'GDP_growth_(annual_%)',\n",
       "                                                   'GDP_per_capita_(constant_LCU)',\n",
       "                                                   'GDP_per_capita_growth_(annual_%)',\n",
       "                                                   'GDP_per_capita,_PPP_(constant_2017_international_$)',\n",
       "                                                   'GDP_per_person_employed_(constant_2017_PPP_$)',\n",
       "                                                   'GDP,_PPP_(constant_2017_international_$)', ...])])),\n",
       "                ('pca', PCA(n_components=0.9)),\n",
       "                ('mlpregressor', MLPRegressor())])"
      ]
     },
     "execution_count": 31,
     "metadata": {},
     "output_type": "execute_result"
    }
   ],
   "source": [
    "pipe2.fit(X, Y)"
   ]
  },
  {
   "cell_type": "code",
   "execution_count": 32,
   "id": "cb569bb1",
   "metadata": {},
   "outputs": [
    {
     "name": "stdout",
     "output_type": "stream",
     "text": [
      "Cross Validation Score -4.23%\n"
     ]
    }
   ],
   "source": [
    "print('Cross Validation Score {}%'.format(round(pipe2.score(X, Y) * 100,2))) "
   ]
  },
  {
   "cell_type": "code",
   "execution_count": 33,
   "id": "e14974a2",
   "metadata": {},
   "outputs": [],
   "source": [
    "Y_pred = pipe2.predict(X)\n",
    "\n",
    "# Calculate R-squared\n",
    "r2 = r2_score(Y, Y_pred)"
   ]
  },
  {
   "cell_type": "code",
   "execution_count": 36,
   "id": "b828382c",
   "metadata": {},
   "outputs": [
    {
     "name": "stdout",
     "output_type": "stream",
     "text": [
      "Model R-squared: -4.23%\n"
     ]
    }
   ],
   "source": [
    "print('Model R-squared: {}%'.format(round(r2 * 100, 2)))"
   ]
  },
  {
   "cell_type": "code",
   "execution_count": 37,
   "id": "22b2da1d",
   "metadata": {},
   "outputs": [
    {
     "data": {
      "text/plain": [
       "array([[ 1.31652102e-03,  1.24299667e-03, -1.13472700e-04, ...,\n",
       "        -1.73991189e-02,  1.10743765e-01,  1.10743765e-01],\n",
       "       [ 4.78446436e-03,  4.64389376e-03, -3.21926141e-03, ...,\n",
       "        -1.82219386e-02, -2.44865284e-02, -2.44865284e-02],\n",
       "       [ 5.69659349e-03,  5.31294213e-03, -3.86634164e-04, ...,\n",
       "        -2.44464691e-02, -7.50850950e-03, -7.50850949e-03],\n",
       "       ...,\n",
       "       [ 7.62903427e-03,  3.91848887e-03,  7.45057114e-03, ...,\n",
       "        -8.52369611e-02, -9.52827658e-02, -9.52827658e-02],\n",
       "       [-3.30367595e-03, -3.17993673e-03, -5.82632751e-03, ...,\n",
       "        -5.32350484e-01,  4.67948979e-02,  4.67948979e-02],\n",
       "       [-5.54316617e-04,  6.32758694e-03,  3.07954655e-02, ...,\n",
       "        -1.78153863e-01,  3.11248706e-02,  3.11248706e-02]])"
      ]
     },
     "execution_count": 37,
     "metadata": {},
     "output_type": "execute_result"
    }
   ],
   "source": [
    "pipe2.named_steps['pca'].components_"
   ]
  },
  {
   "cell_type": "code",
   "execution_count": 38,
   "id": "05eab449",
   "metadata": {},
   "outputs": [
    {
     "name": "stdout",
     "output_type": "stream",
     "text": [
      "Mean Absolute Error: 17106773903.390196\n",
      "Mean Squared Error: 7.212149550223495e+21\n",
      "R-squared: -0.04229224316496061\n",
      "Adjusted R-squared: -0.1455381729124332\n",
      "Root Mean Squared Error: 84924375477.38278\n"
     ]
    }
   ],
   "source": [
    "# Calculate Scores from pipe model\n",
    "Y_pred = pipe2.predict(X)  # Assuming X is your input data\n",
    "\n",
    "# Calculate the Mean Absolute Error\n",
    "mae = mean_absolute_error(Y, Y_pred)\n",
    "\n",
    "# Calculate the Mean Squared Error\n",
    "mse = mean_squared_error(Y, Y_pred)\n",
    "\n",
    "# Calculate R-squared\n",
    "r2 = r2_score(Y, Y_pred)\n",
    "\n",
    "# Calculate Adjusted R2 score\n",
    "n = len(Y)\n",
    "p = X.shape[1]  # Number of predictors\n",
    "adjusted_r2 = 1 - (1 - r2) * (n - 1) / (n - p - 1)\n",
    "\n",
    "# Calculate Root Mean Squared Error\n",
    "rmse = np.sqrt(mse)\n",
    "\n",
    "# Print score results\n",
    "print('Mean Absolute Error: {}'.format(mae))\n",
    "print('Mean Squared Error: {}'.format(mse))\n",
    "print('R-squared: {}'.format(r2))\n",
    "print('Adjusted R-squared: {}'.format(adjusted_r2))\n",
    "print('Root Mean Squared Error: {}'.format(rmse))"
   ]
  },
  {
   "cell_type": "code",
   "execution_count": null,
   "id": "a843fc81",
   "metadata": {},
   "outputs": [],
   "source": [
    "### RANDOMIZED SEARCH PCA "
   ]
  },
  {
   "cell_type": "code",
   "execution_count": 39,
   "id": "a03897d1",
   "metadata": {},
   "outputs": [],
   "source": [
    "param_grid = {\n",
    "    'mlpregressor__hidden_layer_sizes': [(100, 50), (50, 25), (20, 20)],\n",
    "    'mlpregressor__activation': ['relu', 'tanh', 'logistic'],\n",
    "    'mlpregressor__solver': ['adam', 'sgd', 'lbfgs'],\n",
    "    'mlpregressor__alpha': [0.00005, 0.0005, 0.005, 0.05],\n",
    "    'mlpregressor__max_iter': [20, 50, 100, 200, 250]\n",
    "}"
   ]
  },
  {
   "cell_type": "code",
   "execution_count": 40,
   "id": "87ada5fa",
   "metadata": {},
   "outputs": [],
   "source": [
    "pipe3 = RandomizedSearchCV(pipe2, param_grid, cv=10).fit(X, Y)"
   ]
  },
  {
   "cell_type": "code",
   "execution_count": 41,
   "id": "6e9282a3",
   "metadata": {},
   "outputs": [
    {
     "name": "stdout",
     "output_type": "stream",
     "text": [
      "Cross Validation Score -4.23%\n"
     ]
    }
   ],
   "source": [
    "print('Cross Validation Score {}%'.format(round(pipe3.score(X, Y) * 100,2))) "
   ]
  },
  {
   "cell_type": "code",
   "execution_count": 42,
   "id": "04d82e9a",
   "metadata": {},
   "outputs": [
    {
     "ename": "NameError",
     "evalue": "name 'X_test' is not defined",
     "output_type": "error",
     "traceback": [
      "\u001b[1;31m---------------------------------------------------------------------------\u001b[0m",
      "\u001b[1;31mNameError\u001b[0m                                 Traceback (most recent call last)",
      "Cell \u001b[1;32mIn[42], line 2\u001b[0m\n\u001b[0;32m      1\u001b[0m \u001b[38;5;66;03m# Make predictions\u001b[39;00m\n\u001b[1;32m----> 2\u001b[0m Y_pred \u001b[38;5;241m=\u001b[39m pipe3\u001b[38;5;241m.\u001b[39mpredict(X_test)\n\u001b[0;32m      4\u001b[0m \u001b[38;5;66;03m# Calculate Mean Squared Error (MSE)\u001b[39;00m\n\u001b[0;32m      5\u001b[0m mse \u001b[38;5;241m=\u001b[39m mean_squared_error(Y_test, Y_pred)\n",
      "\u001b[1;31mNameError\u001b[0m: name 'X_test' is not defined"
     ]
    }
   ],
   "source": [
    "# Make predictions\n",
    "Y_pred = pipe3.predict(X_test)\n",
    "\n",
    "# Calculate Mean Squared Error (MSE)\n",
    "mse = mean_squared_error(Y_test, Y_pred)\n",
    "\n",
    "# Calculate R-squared (R2) score\n",
    "r2 = r2_score(Y_test, Y_pred)\n",
    "\n",
    "print(\"Mean Squared Error (MSE):\", mse)\n",
    "print(\"R-squared (R2) score:\", r2)"
   ]
  },
  {
   "cell_type": "code",
   "execution_count": null,
   "id": "75ce8971",
   "metadata": {},
   "outputs": [],
   "source": [
    "# Export Pipes using Pickle"
   ]
  },
  {
   "cell_type": "code",
   "execution_count": 58,
   "id": "3107f4f2",
   "metadata": {},
   "outputs": [],
   "source": [
    "#https://machinelearningmastery.com/save-load-machine-learning-models-python-scikit-learn/\n",
    "import pickle\n",
    "#import pickle5 as pickle"
   ]
  },
  {
   "cell_type": "code",
   "execution_count": 61,
   "id": "b60f7223",
   "metadata": {},
   "outputs": [],
   "source": [
    "filename='bestModel.sav'\n",
    "pickle.dump(pipeline, open(filename, 'wb'))"
   ]
  },
  {
   "cell_type": "code",
   "execution_count": null,
   "id": "76401d89",
   "metadata": {},
   "outputs": [],
   "source": [
    "#Load Model"
   ]
  },
  {
   "cell_type": "code",
   "execution_count": null,
   "id": "121b9c5a",
   "metadata": {},
   "outputs": [],
   "source": [
    "load_model = pickle.load(open(filename, 'rb'))"
   ]
  },
  {
   "cell_type": "code",
   "execution_count": null,
   "id": "b4a44eec",
   "metadata": {},
   "outputs": [],
   "source": [
    "#Apply Model to new dataframe"
   ]
  },
  {
   "cell_type": "code",
   "execution_count": null,
   "id": "005b2910",
   "metadata": {},
   "outputs": [],
   "source": [
    "load_model.score(X,Y)"
   ]
  },
  {
   "cell_type": "code",
   "execution_count": 62,
   "id": "e7bf09f0",
   "metadata": {},
   "outputs": [],
   "source": [
    "# EVAL mETRICS\n",
    "\n",
    "from sklearn.metrics import mean_squared_error, r2_score\n",
    "\n",
    "\n",
    "# Make predictions\n",
    "y_pred = pipe.predict(X_test)\n",
    "\n",
    "# Calculate Mean Squared Error (MSE)\n",
    "mse = mean_squared_error(y_test, y_pred)\n",
    "\n",
    "# Calculate R-squared (R2) score\n",
    "r2 = r2_score(y_test, y_pred)\n",
    "\n",
    "print(\"Mean Squared Error (MSE):\", mse)\n",
    "print(\"R-squared (R2) score:\", r2)\n"
   ]
  },
  {
   "cell_type": "code",
   "execution_count": null,
   "id": "e5aaad12",
   "metadata": {},
   "outputs": [],
   "source": [
    "### Combined Testing"
   ]
  },
  {
   "cell_type": "code",
   "execution_count": 43,
   "id": "c32c1fb6",
   "metadata": {},
   "outputs": [
    {
     "name": "stdout",
     "output_type": "stream",
     "text": [
      "Best hyperparameters: {'model__activation': 'identity', 'model__alpha': 0.005, 'model__hidden_layer_sizes': (50,), 'model__max_iter': 100, 'model__solver': 'lbfgs'}\n",
      "Model accuracy: -0.035754899282471\n"
     ]
    }
   ],
   "source": [
    "# Evaluate Pipeline code using One Hot Encoding  \n",
    "\n",
    "\n",
    "import pandas as pd\n",
    "from sklearn.compose import ColumnTransformer\n",
    "from sklearn.pipeline import Pipeline\n",
    "from sklearn.preprocessing import StandardScaler, OneHotEncoder\n",
    "from sklearn.model_selection import train_test_split, GridSearchCV\n",
    "from sklearn.neural_network import MLPRegressor\n",
    "from sklearn.ensemble import RandomForestRegressor\n",
    "\n",
    "# Load your DataFrame\n",
    "data = pd.read_csv('EDA_dataset.csv')\n",
    "\n",
    "# Split the data into features (X) and target (y)\n",
    "X = dataset.drop('GDP_per_capita_(constant_2015_US$)', axis=1)\n",
    "y = dataset['GDP_per_capita_(constant_2015_US$)']\n",
    "\n",
    "# Define the columns that require one-hot encoding and those that need standard scaling\n",
    "\n",
    "numericalCols = X.select_dtypes(exclude=['object']).columns.tolist()\n",
    "categoricalCols = X.select_dtypes(include=['object']).columns.tolist()\n",
    "\n",
    "# Create transformers for one-hot encoding and standard scaling\n",
    "preprocessor = ColumnTransformer(\n",
    "    transformers=[\n",
    "        ('num', StandardScaler(), numericalCols),\n",
    "        ('cat', OneHotEncoder(), categoricalCols)\n",
    "    ])\n",
    "\n",
    "# Define the machine learning model (MLPRegressor) and its hyperparameters\n",
    "mlp = MLPRegressor()\n",
    "\n",
    "# Create a pipeline that combines data preprocessing and model training\n",
    "pipeline = Pipeline([\n",
    "    ('preprocessor', preprocessor),\n",
    "    ('model', mlp)\n",
    "])\n",
    "\n",
    "# Define the hyperparameter grid for MLPRegressor\n",
    "param_grid = {\n",
    "    'model__hidden_layer_sizes': [(1,), (50,), (20, 20), (20, 30, 20)],\n",
    "    'model__activation': [\"identity\", \"logistic\", \"tanh\", \"relu\"],\n",
    "    'model__solver': [\"lbfgs\", \"sgd\", \"adam\"],\n",
    "    'model__alpha': [0.00005, 0.0005, 0.005, 0.05],\n",
    "    'model__max_iter': [20, 50, 100, 200, 250]\n",
    "}\n",
    "\n",
    "# Split your data into training and testing sets\n",
    "X_train, X_test, y_train, y_test = train_test_split(X, y, test_size=0.2, random_state=42)\n",
    "\n",
    "# Create GridSearchCV to search for the best hyperparameters\n",
    "grid = GridSearchCV(pipeline, param_grid, cv=5)\n",
    "\n",
    "# Fit the grid search to your training data\n",
    "grid.fit(X_train, y_train)\n",
    "\n",
    "# Get the best hyperparameters\n",
    "best_params = grid.best_params_\n",
    "print(\"Best hyperparameters:\", best_params)\n",
    "\n",
    "# Evaluate the model with the best hyperparameters on the testing data\n",
    "accuracy = grid.score(X_test, y_test)\n",
    "print(f'Model accuracy: {accuracy}')\n"
   ]
  },
  {
   "cell_type": "code",
   "execution_count": 44,
   "id": "c4575b31",
   "metadata": {},
   "outputs": [
    {
     "name": "stdout",
     "output_type": "stream",
     "text": [
      "Mean Absolute Error: 12511631918.715439\n",
      "Mean Squared Error: 4.5347082560823246e+21\n",
      "R-squared: -0.035754899282471\n",
      "Adjusted R-squared: -0.885397590100123\n",
      "Root Mean Squared Error: 67340242471.2172\n"
     ]
    }
   ],
   "source": [
    "from sklearn.metrics import mean_absolute_error, mean_squared_error, r2_score\n",
    "\n",
    "\n",
    "\n",
    "# Make predictions using the grid model\n",
    "y_pred = grid.predict(X_test)\n",
    "\n",
    "# Calculate the Mean Absolute Error\n",
    "mae = mean_absolute_error(y_test, y_pred)\n",
    "\n",
    "# Calculate the Mean Squared Error\n",
    "mse = mean_squared_error(y_test, y_pred)\n",
    "\n",
    "# Calculate R-squared\n",
    "r2 = r2_score(y_test, y_pred)\n",
    "\n",
    "# Calculate Adjusted R2 score\n",
    "n = len(y_test)\n",
    "p = X_test.shape[1]  # Number of predictors\n",
    "adjusted_r2 = 1 - (1 - r2) * (n - 1) / (n - p - 1)\n",
    "\n",
    "# Calculate Root Mean Squared Error\n",
    "rmse = np.sqrt(mse)\n",
    "\n",
    "# Print score results\n",
    "print('Mean Absolute Error: {}'.format(mae))\n",
    "print('Mean Squared Error: {}'.format(mse))\n",
    "print('R-squared: {}'.format(r2))\n",
    "print('Adjusted R-squared: {}'.format(adjusted_r2))\n",
    "print('Root Mean Squared Error: {}'.format(rmse))\n"
   ]
  },
  {
   "cell_type": "code",
   "execution_count": 42,
   "id": "6b7add0c",
   "metadata": {},
   "outputs": [
    {
     "name": "stdout",
     "output_type": "stream",
     "text": [
      "Mean Squared Error (MSE): 4.5347082574036845e+21\n",
      "R-squared (R2) score: -0.0357548995842778\n"
     ]
    }
   ],
   "source": [
    "# Original Code R2 and MSE\n",
    "\n",
    "y_pred = grid.predict(X_test)\n",
    "\n",
    "# Calculate Mean Squared Error (MSE)\n",
    "mse = mean_squared_error(y_test, y_pred)\n",
    "\n",
    "# Calculate R-squared (R2) score\n",
    "r2 = r2_score(y_test, y_pred)\n",
    "\n",
    "print(\"Mean Squared Error (MSE):\", mse)\n",
    "print(\"R-squared (R2) score:\", r2)"
   ]
  },
  {
   "cell_type": "code",
   "execution_count": 79,
   "id": "f9909de6",
   "metadata": {},
   "outputs": [
    {
     "name": "stdout",
     "output_type": "stream",
     "text": [
      "Mean Absolute Error (MAE): 2823430545.9379673\n"
     ]
    }
   ],
   "source": [
    "# Original Code MAE\n",
    "\n",
    "from sklearn.metrics import mean_absolute_error\n",
    "\n",
    "# ... (your code up to fitting the grid search)\n",
    "\n",
    "# Predictions on the test set using the best model from grid search\n",
    "y_pred = grid.predict(X_test)\n",
    "\n",
    "# Calculate Mean Absolute Error (MAE)\n",
    "mae = mean_absolute_error(y_test, y_pred)\n",
    "\n",
    "print(\"Mean Absolute Error (MAE):\", mae)\n"
   ]
  }
 ],
 "metadata": {
  "kernelspec": {
   "display_name": "Python 3 (ipykernel)",
   "language": "python",
   "name": "python3"
  },
  "language_info": {
   "codemirror_mode": {
    "name": "ipython",
    "version": 3
   },
   "file_extension": ".py",
   "mimetype": "text/x-python",
   "name": "python",
   "nbconvert_exporter": "python",
   "pygments_lexer": "ipython3",
   "version": "3.11.5"
  }
 },
 "nbformat": 4,
 "nbformat_minor": 5
}
